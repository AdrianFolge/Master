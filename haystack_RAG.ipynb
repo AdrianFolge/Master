{
 "cells": [
  {
   "cell_type": "code",
   "execution_count": 5,
   "metadata": {},
   "outputs": [
    {
     "name": "stdout",
     "output_type": "stream",
     "text": [
      "WARNING:tensorflow:From c:\\Users\\adrianhf\\anaconda3\\envs\\master\\Lib\\site-packages\\tensorflow_hub\\resolver.py:120: The name tf.gfile.MakeDirs is deprecated. Please use tf.io.gfile.makedirs instead.\n",
      "\n"
     ]
    },
    {
     "name": "stderr",
     "output_type": "stream",
     "text": [
      "WARNING:tensorflow:From c:\\Users\\adrianhf\\anaconda3\\envs\\master\\Lib\\site-packages\\tensorflow_hub\\resolver.py:120: The name tf.gfile.MakeDirs is deprecated. Please use tf.io.gfile.makedirs instead.\n",
      "\n"
     ]
    },
    {
     "name": "stdout",
     "output_type": "stream",
     "text": [
      "WARNING:tensorflow:From c:\\Users\\adrianhf\\anaconda3\\envs\\master\\Lib\\site-packages\\tensorflow_hub\\module_v2.py:126: The name tf.saved_model.load_v2 is deprecated. Please use tf.compat.v2.saved_model.load instead.\n",
      "\n"
     ]
    },
    {
     "name": "stderr",
     "output_type": "stream",
     "text": [
      "WARNING:tensorflow:From c:\\Users\\adrianhf\\anaconda3\\envs\\master\\Lib\\site-packages\\tensorflow_hub\\module_v2.py:126: The name tf.saved_model.load_v2 is deprecated. Please use tf.compat.v2.saved_model.load instead.\n",
      "\n"
     ]
    },
    {
     "name": "stdout",
     "output_type": "stream",
     "text": [
      "module https://tfhub.dev/google/universal-sentence-encoder/4 loaded\n"
     ]
    }
   ],
   "source": [
    " \n",
    "import tensorflow as tf\n",
    " \n",
    "import tensorflow_hub as hub\n",
    "import matplotlib.pyplot as plt\n",
    "import numpy as np\n",
    "import os\n",
    "import pandas as pd\n",
    "import re\n",
    "import seaborn as sns\n",
    " \n",
    "module_url = \"https://tfhub.dev/google/universal-sentence-encoder/4\"\n",
    "model = hub.load(module_url)\n",
    "print(\"module %s loaded\" % module_url)\n",
    " \n",
    " \n",
    "def embed(input):\n",
    "    return model(input)\n"
   ]
  },
  {
   "cell_type": "code",
   "execution_count": 12,
   "metadata": {},
   "outputs": [
    {
     "name": "stdout",
     "output_type": "stream",
     "text": [
      "Test Sentence: ['Presidenten i USA er Joe Biden']\n",
      "\n",
      "For ['Joe Biden']\n",
      "Similarity Score = 0.8132246025338546 \n",
      "\n",
      "For ['We are learning NLP throughg GeeksforGeeks']\n",
      "Similarity Score = 0.08000145107507706 \n",
      "\n",
      "For ['The baby learned to walk in the 5th month itself']\n",
      "Similarity Score = -0.01757628098130226 \n"
     ]
    }
   ],
   "source": [
    "#!pip install -U sentence-transformers\n",
    "from scipy.spatial import distance\n",
    " \n",
    " \n",
    "test = [\"Presidenten i USA er Joe Biden\"]\n",
    "print('Test Sentence:',test)\n",
    "test_vec = embed(test)\n",
    "# Sample sentence\n",
    "sentences = [[\"Joe Biden\"],\n",
    "        [\"We are learning NLP throughg GeeksforGeeks\"],\n",
    "        [\"The baby learned to walk in the 5th month itself\"]]\n",
    " \n",
    "for sent in sentences:\n",
    "    similarity_score = 1-distance.cosine(test_vec[0,:],embed(sent)[0,:])\n",
    "    print(f'\\nFor {sent}\\nSimilarity Score = {similarity_score} ')"
   ]
  }
 ],
 "metadata": {
  "kernelspec": {
   "display_name": "master",
   "language": "python",
   "name": "python3"
  },
  "language_info": {
   "codemirror_mode": {
    "name": "ipython",
    "version": 3
   },
   "file_extension": ".py",
   "mimetype": "text/x-python",
   "name": "python",
   "nbconvert_exporter": "python",
   "pygments_lexer": "ipython3",
   "version": "3.11.7"
  }
 },
 "nbformat": 4,
 "nbformat_minor": 2
}
