{
 "cells": [
  {
   "cell_type": "code",
   "execution_count": null,
   "metadata": {},
   "outputs": [],
   "source": [
    "import evaluate\n",
    "from evaluate import load\n",
    "import tensorflow_hub as hub\n",
    "from scipy.spatial import distance"
   ]
  },
  {
   "cell_type": "code",
   "execution_count": null,
   "metadata": {},
   "outputs": [],
   "source": [
    "bertscore = load(\"bertscore\")\n",
    "bleu = evaluate.load('bleu')\n",
    "rouge = evaluate.load('rouge')"
   ]
  },
  {
   "cell_type": "code",
   "execution_count": null,
   "metadata": {},
   "outputs": [],
   "source": [
    "preds = dataset[:10][\"Answer\"]\n",
    "references = answers_from_model "
   ]
  },
  {
   "cell_type": "code",
   "execution_count": null,
   "metadata": {},
   "outputs": [],
   "source": [
    "bert_score = bertscore.compute(predictions=preds, references=references, lang=\"nb\")\n",
    "bleu_score = bleu.compute(predictions=preds, references=references, max_order=2)\n",
    "rouge_score = rouge.compute(predictions=preds, references=references)"
   ]
  },
  {
   "cell_type": "code",
   "execution_count": null,
   "metadata": {},
   "outputs": [],
   "source": [
    "avg_precision = sum(bert_score['precision']) / len(bert_score['precision'])\n",
    "avg_recall = sum(bert_score['recall']) / len(bert_score['recall'])\n",
    "avg_f1 = sum(bert_score['f1']) / len(bert_score['f1'])\n",
    "print(\"BLEU SCORES\")\n",
    "print(bleu_score)\n",
    "print(\"ROUGE SCORES\")\n",
    "print(rouge_score)\n",
    "print(\"BERT SCORES\")\n",
    "print(\"Average Precision:\", avg_precision)\n",
    "print(\"Average Recall:\", avg_recall)\n",
    "print(\"Average F1 Score:\", avg_f1)"
   ]
  },
  {
   "cell_type": "code",
   "execution_count": null,
   "metadata": {},
   "outputs": [],
   "source": [
    "module_url = \"https://tfhub.dev/google/universal-sentence-encoder/4\"\n",
    "model = hub.load(module_url)\n",
    "print(\"module %s loaded\" % module_url)\n",
    " \n",
    " \n",
    "def embed(input):\n",
    "    return model(input)"
   ]
  },
  {
   "cell_type": "code",
   "execution_count": null,
   "metadata": {},
   "outputs": [],
   "source": [
    "test = [\"Presidenten i USA er Joe Biden\"]\n",
    "print('Test Sentence:',test)\n",
    "test_vec = embed(test)\n",
    "# Sample sentence\n",
    "sentences = [[\"Joe Biden\"],\n",
    "        [\"We are learning NLP throughg GeeksforGeeks\"],\n",
    "        [\"The baby learned to walk in the 5th month itself\"]]\n",
    " \n",
    "for sent in sentences:\n",
    "    similarity_score = 1-distance.cosine(test_vec[0,:],embed(sent)[0,:])\n",
    "    print(f'\\nFor {sent}\\nSimilarity Score = {similarity_score} ')"
   ]
  }
 ],
 "metadata": {
  "kernelspec": {
   "display_name": "master",
   "language": "python",
   "name": "python3"
  },
  "language_info": {
   "codemirror_mode": {
    "name": "ipython",
    "version": 3
   },
   "file_extension": ".py",
   "mimetype": "text/x-python",
   "name": "python",
   "nbconvert_exporter": "python",
   "pygments_lexer": "ipython3",
   "version": "3.11.7"
  }
 },
 "nbformat": 4,
 "nbformat_minor": 2
}
