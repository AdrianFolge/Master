{
 "cells": [
  {
   "cell_type": "code",
   "execution_count": 2,
   "metadata": {},
   "outputs": [
    {
     "name": "stderr",
     "output_type": "stream",
     "text": [
      "c:\\Users\\adrianhf\\anaconda3\\envs\\master\\Lib\\site-packages\\tqdm\\auto.py:21: TqdmWarning: IProgress not found. Please update jupyter and ipywidgets. See https://ipywidgets.readthedocs.io/en/stable/user_install.html\n",
      "  from .autonotebook import tqdm as notebook_tqdm\n"
     ]
    }
   ],
   "source": [
    "import evaluate"
   ]
  },
  {
   "cell_type": "code",
   "execution_count": 4,
   "metadata": {},
   "outputs": [
    {
     "name": "stdout",
     "output_type": "stream",
     "text": [
      "{'bleu': 0.40451991747794525, 'precisions': [0.5454545454545454, 0.3], 'brevity_penalty': 1.0, 'length_ratio': 1.2222222222222223, 'translation_length': 11, 'reference_length': 9}\n"
     ]
    }
   ],
   "source": [
    "bleu = evaluate.load('bleu')\n",
    "predictions = [\"Datoen for vedtaket av Kommunedelplan for sentrum av bystyret var 26.8.2021\"]\n",
    "references = [\n",
    "              [\"Kommunedelplan for sentrum ble vedtatt av bystyret 26.8.2021.\"]\n",
    "\n",
    "]\n",
    "results = bleu.compute(predictions=predictions, references=references, \n",
    "          max_order = 2)\n",
    "print(results)"
   ]
  }
 ],
 "metadata": {
  "kernelspec": {
   "display_name": "master",
   "language": "python",
   "name": "python3"
  },
  "language_info": {
   "codemirror_mode": {
    "name": "ipython",
    "version": 3
   },
   "file_extension": ".py",
   "mimetype": "text/x-python",
   "name": "python",
   "nbconvert_exporter": "python",
   "pygments_lexer": "ipython3",
   "version": "3.11.7"
  }
 },
 "nbformat": 4,
 "nbformat_minor": 2
}
