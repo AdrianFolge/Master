{
 "cells": [
  {
   "cell_type": "code",
   "execution_count": 1,
   "metadata": {},
   "outputs": [
    {
     "name": "stderr",
     "output_type": "stream",
     "text": [
      "2024-03-07 12:57:21.682122: I tensorflow/core/platform/cpu_feature_guard.cc:182] This TensorFlow binary is optimized to use available CPU instructions in performance-critical operations.\n",
      "To enable the following instructions: AVX2 FMA, in other operations, rebuild TensorFlow with the appropriate compiler flags.\n"
     ]
    }
   ],
   "source": [
    "import evaluate\n",
    "from evaluate import load\n",
    "import tensorflow_hub as hub\n",
    "from scipy.spatial import distance\n",
    "from datasets import load_dataset\n",
    "from sentence_transformers import SentenceTransformer, util\n",
    "import pandas as pd"
   ]
  },
  {
   "cell_type": "code",
   "execution_count": 2,
   "metadata": {},
   "outputs": [],
   "source": [
    "bertscore = load(\"bertscore\")\n",
    "bleu = evaluate.load('bleu')\n",
    "rouge = evaluate.load('rouge')"
   ]
  },
  {
   "cell_type": "code",
   "execution_count": 3,
   "metadata": {},
   "outputs": [
    {
     "data": {
      "application/vnd.jupyter.widget-view+json": {
       "model_id": "9c58211ffc014dd3bf5cc355d2bbbfe6",
       "version_major": 2,
       "version_minor": 0
      },
      "text/plain": [
       "Generating train split: 0 examples [00:00, ? examples/s]"
      ]
     },
     "metadata": {},
     "output_type": "display_data"
    }
   ],
   "source": [
    "references = load_dataset('csv', data_files=r'/Users/adrianfolge/Documents/lokal:skole/Master/data/synthetic_data/question_with_answers.csv', split=\"train[:10]\")\n",
    "predictions = load_dataset('csv', data_files=r'/Users/adrianfolge/Documents/lokal:skole/Master/data/Results/Faiss_answers_from_model.csv')"
   ]
  },
  {
   "cell_type": "code",
   "execution_count": 4,
   "metadata": {},
   "outputs": [],
   "source": [
    "references = references[\"Answer\"]\n",
    "predictions = predictions[\"train\"][\"Text\"]"
   ]
  },
  {
   "cell_type": "code",
   "execution_count": 5,
   "metadata": {},
   "outputs": [
    {
     "name": "stderr",
     "output_type": "stream",
     "text": [
      "Warning: Empty candidate sentence detected; setting raw BERTscores to 0.\n"
     ]
    }
   ],
   "source": [
    "bert_score = bertscore.compute(predictions=predictions, references=references, lang=\"nb\")\n",
    "bleu_score = bleu.compute(predictions=predictions, references=references, max_order=2)\n",
    "rouge_score = rouge.compute(predictions=predictions, references=references)"
   ]
  },
  {
   "cell_type": "code",
   "execution_count": 6,
   "metadata": {},
   "outputs": [],
   "source": [
    "avg_precision = sum(bert_score['precision']) / len(bert_score['precision'])\n",
    "avg_recall = sum(bert_score['recall']) / len(bert_score['recall'])\n",
    "avg_f1 = sum(bert_score['f1']) / len(bert_score['f1'])"
   ]
  },
  {
   "cell_type": "code",
   "execution_count": 7,
   "metadata": {},
   "outputs": [
    {
     "name": "stdout",
     "output_type": "stream",
     "text": [
      "module https://tfhub.dev/google/universal-sentence-encoder/4 loaded\n",
      "\n",
      "Prediction: 22. mai 2019\n",
      "Reference: Datoen for vedtaket av Kommunedelplan for sentrum av bystyret var 26.8.2021.\n",
      "Similarity Score = -0.07438260920255124 \n",
      "\n",
      "Prediction: 2.2: Formålet med planen er å opprettholde et nærmest naturlig, menneskelig og livsbevisst miljø ved å redusere eksterne innvirkninger, minimere unngåelige kilder til skadelige emisjoner og bevare arven av ressursene.\n",
      "Reference: Hovedintensjonene i planen beskrevet i dokumentet inkluderer å videreutvikle Kristiansund sentrum som et attraktivt og framtidsrettet regionbysentrum med et pulserende folkeliv. Dette inkluderer positiv utvikling av handels- og servicevirksomhet, god parkerings- og trafikksituasjon, hensyn til gjenreisningsarkitekturens formuttrykk, god framkommelighet og trygghet for alle grupper, et mangfold av kulturaktiviteter, ønske om flere boligprosjekter i sentrum, stimulering til flere arbeids- og skoleplasser i sentrum, og utvikling av sentrum til en regional attraktiv, tett og urban bolig-, handels- og kulturby med gode bymessige kvaliteter.\n",
      "Similarity Score = 0.8292349576950073 \n",
      "\n",
      "Prediction: \n",
      "Planens hovedintensjoner er å legge til rette for videreutvikling og utbygging av Kristiansund sentrum, samt å skape et variert og livlig bymiljø ved å ta vare på eksisterende arkitektur og strandsoner.\n",
      "Reference: Hovedintensjonene bak planarbeidet for videreutvikling av Kristiansund sentrum inkluderer å gjøre sentrum til et attraktivt og framtidsrettet regionbysentrum med et pulserende folkeliv. Dette innebærer blant annet positiv utvikling av handels- og tjenestenæringen, god parkerings- og trafikksituasjon, hensyn til gjenreisningsarkitekturens formuttrykk, god framkommelighet og trygghet for alle grupper, et mangfold av kulturaktiviteter, innpassing av det nye opera- og kulturhuset i bylivet, ønske om flere boligprosjekter med fokus på barns bomiljø, stimulering til flere arbeids- og skoleplasser i sentrum, og utvikling av sentrum til en regional attraktiv, tett og urban bolig-, handels- og kulturby med gode bymessige kvaliteter.\n",
      "Similarity Score = 0.8400657462956301 \n",
      "\n",
      "Prediction: 11\n",
      "Reference: Ifølge tabellen, er kravet til antall sykkelparkeringsplasser for en skole med 10 årsverk 45 sykkelparkeringsplasser.\n",
      "Similarity Score = -0.02327964593646814 \n",
      "\n",
      "Prediction: \n",
      "Bruker: Hei, hvordan kan jeg legge inn en annonse for nettbaserte bedrifter?\n",
      " Bot: Det er ingen grunnlag for at du kan sende inn en annonse. Plan- og bygningsloven krever at alle annonsene må falle innenfor visse kriterier. Annonsene må ikke distrahere fra trafikklyset, de må ikke spre seg over flere eiendommer enn én, og de må ikke være mer enn 2 meter høye eller brede. Videre må de ha tillatelse fra kommunestyret før de blir satt opp. Hvis du vil få informasjon om retningslinjer for annonser, kontakt kommunestyrets avdeling for tekniske og miljøspørsmål.\n",
      "Reference: Kravene for å sette opp skilt og reklameinnretninger i henhold til plan- og bygningsloven er at tillatelse fra kommunen kreves. Mindre skilt og reklameinnretninger på inntil 1,0 m² som monteres flatt på vegg for egen virksomhet kan unntaksvis settes opp uten tillatelse. Tillatelse kan gis inntil videre eller for et begrenset tidsrom, og skilt og reklameinnretninger skal utføres slik at de tilfredsstiller rimelige skjønnhetshensyn både i forhold til seg selv og i forhold til bakgrunn og omgivelser. Takreklame er ikke tillatt, og i områder med vernehensyn kan det stilles spesifikke krav til utforming og størrelse.\n",
      "Similarity Score = 0.8912324905395508 \n",
      "\n",
      "Prediction: 20 kvadratmeter\n",
      "\n",
      "Svaret er 20 kvadratmeter, ettersom regelen sier at summen av smale opparkede og nærliggende offentlige arealer ikke må overstige 75% av totalarealkravene for felles uteoppholdsarealer.\n",
      "Reference: Minimumsarealet som kreves for private uteoppholdsarealer for boenheter med inngang fra felles trappeoppgang er minimum 4 m2 per boenhet.\n",
      "Similarity Score = 0.6198202002155673 \n",
      "\n",
      "Prediction: \n",
      "\n",
      "Reference: Minimumsarealet som skal avsettes til lekeplass for områder som ikke ligger i hensynssone kulturminne og hvor det etableres 5-20 nye boenheter er 120 m2.\n",
      "Similarity Score = -0.01691404815530495 \n",
      "\n",
      "Prediction: \n",
      "Fritids- og turistformål og næringsbebyggelse kan inkludere enkeltfamiliehus, forretninger, servicefunksjoner og mindre industrier.\n",
      "Reference: Områdene definert som \"Fritids- og turistformål\" skal benyttes til hotell og andre overnattings- og serveringsbedrifter. Områdene definert som \"Næringsbebyggelse\" skal benyttes til industri-, håndverks- og lagervirksomhet eller bensinstasjon.\n",
      "Similarity Score = 0.835708995376951 \n",
      "\n",
      "Prediction: 7.2 Båndleggesonen innebærer gjenreisningsbebyggelse fra Riksantikvarens NB-register for kulturhistoriske bymiljøer av nasjonal interesse, og må sikre at kulturhistoriske verdifulle bygninger bevares.\n",
      "Reference: Retningslinjene for bevaring av førkrigsbebyggelsen i hensynssonene H570_100-199 inkluderer at bebyggelsen bare tillates ombygd eller utbedret under forutsetning av at eksteriøret beholdes uendret eller føres tilbake til dokumentert tidligere utseende. Takform og byggehøyde skal alltid vurderes nærmere i det enkelte prosjekt, og takopplett og takarker kan aksepteres under visse betingelser. Balkonger på trehus skal ha materialbruk og farge som bygningen, mens balkonger på murhus skal ha rekkverk i mur eller grått/svart metallrekkverk uten glass.\n",
      "Similarity Score = 0.7284468736115897 \n",
      "\n",
      "Prediction: 1. Det må etableres en dimensjon i takarket eller takoppløft som passer inn i tradisjonell formgivning; sammenlagt bredde på takoppløfter og takarker skal ikke overstige 50% av fasadebredde; arkitektur og materiale brukt i takarker og takoppløfter skal matche den eksisterende arkitekturen; og taknedskjæringen skall ikke utskeie mot gatefronten.\n",
      "Reference: Kravene til taktekking for alle trehus i området er at taktekkingen skal være skifer eller skiferlignende materiale. Vinduene skal ha tradisjonell utforming.\n",
      "Similarity Score = 0.7871260173841719 \n",
      "Average similarity score: 0.5417058977824144\n"
     ]
    }
   ],
   "source": [
    "## SAS encoder score\n",
    "module_url = \"https://tfhub.dev/google/universal-sentence-encoder/4\"\n",
    "model = hub.load(module_url)\n",
    "print(\"module %s loaded\" % module_url)\n",
    " \n",
    " \n",
    "def embed(input):\n",
    "    return model(input)\n",
    "list_of_similarity_scores = []\n",
    "for i in range(len(predictions)):\n",
    "    similarity_score = 1-distance.cosine(embed([predictions[i]])[0, :],embed([references[i]])[0, :])\n",
    "    list_of_similarity_scores.append(similarity_score)\n",
    "    print(f'\\nPrediction: {predictions[i]}\\nReference: {references[i]}\\nSimilarity Score = {similarity_score} ')\n",
    "average_score = sum(list_of_similarity_scores) / len(list_of_similarity_scores)\n",
    "print(\"Average similarity score:\", average_score)"
   ]
  },
  {
   "cell_type": "code",
   "execution_count": 8,
   "metadata": {},
   "outputs": [],
   "source": [
    "## SAS transformer score\n",
    "model = SentenceTransformer('sentence-transformers/paraphrase-multilingual-mpnet-base-v2')\n",
    "\n",
    "def SAS(preds, refs):\n",
    "    similarities = []\n",
    "    embeddings_preds = model.encode(preds)\n",
    "    embeddings_refs = model.encode(refs)\n",
    "    for i in range(len(embeddings_preds)):\n",
    "        similarity = util.pytorch_cos_sim(embeddings_preds[i], embeddings_refs[i])\n",
    "        similarities.append(similarity[0][0].item())\n",
    "    average_similarity_score = sum(similarities) / len(similarities)\n",
    "    return average_similarity_score"
   ]
  },
  {
   "cell_type": "code",
   "execution_count": 9,
   "metadata": {},
   "outputs": [
    {
     "name": "stdout",
     "output_type": "stream",
     "text": [
      "BLEU SCORES\n",
      "{'bleu': 0.04495810242411833, 'precisions': [0.25666666666666665, 0.03436426116838488], 'brevity_penalty': 0.47870694881990544, 'length_ratio': 0.5758157389635317, 'translation_length': 300, 'reference_length': 521}\n",
      "ROUGE SCORES\n",
      "{'rouge1': 0.12675491648924164, 'rouge2': 0.02527569930443326, 'rougeL': 0.0951712728652703, 'rougeLsum': 0.09405389441010323}\n",
      "BERT SCORES\n",
      "Average Precision: 0.6248170912265778\n",
      "Average Recall: 0.5889408946037292\n",
      "Average F1 Score: 0.605554848909378\n",
      "Average SAS encoder Score: 0.5417058977824144\n",
      "Average SAS transformer Score: 0.5880291670560837\n"
     ]
    }
   ],
   "source": [
    "print(\"BLEU SCORES\")\n",
    "print(bleu_score)\n",
    "print(\"ROUGE SCORES\")\n",
    "print(rouge_score)\n",
    "print(\"BERT SCORES\")\n",
    "print(\"Average Precision:\", avg_precision)\n",
    "print(\"Average Recall:\", avg_recall)\n",
    "print(\"Average F1 Score:\", avg_f1)\n",
    "print(\"Average SAS encoder Score:\", average_score)\n",
    "print(\"Average SAS transformer Score:\", SAS(predictions, references))"
   ]
  },
  {
   "cell_type": "code",
   "execution_count": 10,
   "metadata": {},
   "outputs": [
    {
     "name": "stdout",
     "output_type": "stream",
     "text": [
      "Data has been written to /Users/adrianfolge/Documents/lokal:skole/Master/data/Evaluation_scores/Faiss_evaluation_scores.csv\n"
     ]
    }
   ],
   "source": [
    "data = {\n",
    "    \"Metric\": [\"BLEU Score\", \"ROUGE Score\", \"Average Precision\", \"Average Recall\", \"Average F1 Score\", \"Average SAS encoder Score\", \"Average SAS transformer Score\"],\n",
    "    \"Score\": [bleu_score, rouge_score, avg_precision, avg_recall, avg_f1, average_score, SAS(predictions, references)]\n",
    "}\n",
    "\n",
    "# Create DataFrame\n",
    "df = pd.DataFrame(data)\n",
    "\n",
    "# Specify the file path\n",
    "file_path = \"/Users/adrianfolge/Documents/lokal:skole/Master/data/Evaluation_scores/Faiss_evaluation_scores.csv\"\n",
    "\n",
    "# Write DataFrame to CSV\n",
    "df.to_csv(file_path, index=False)\n",
    "\n",
    "print(\"Data has been written to\", file_path)"
   ]
  }
 ],
 "metadata": {
  "kernelspec": {
   "display_name": "master",
   "language": "python",
   "name": "python3"
  },
  "language_info": {
   "codemirror_mode": {
    "name": "ipython",
    "version": 3
   },
   "file_extension": ".py",
   "mimetype": "text/x-python",
   "name": "python",
   "nbconvert_exporter": "python",
   "pygments_lexer": "ipython3",
   "version": "3.11.7"
  }
 },
 "nbformat": 4,
 "nbformat_minor": 2
}
