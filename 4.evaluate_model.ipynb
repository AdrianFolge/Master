{
 "cells": [
  {
   "cell_type": "code",
   "execution_count": 1,
   "metadata": {},
   "outputs": [
    {
     "name": "stderr",
     "output_type": "stream",
     "text": [
      "2024-03-05 10:12:07.215456: I tensorflow/core/platform/cpu_feature_guard.cc:182] This TensorFlow binary is optimized to use available CPU instructions in performance-critical operations.\n",
      "To enable the following instructions: AVX2 FMA, in other operations, rebuild TensorFlow with the appropriate compiler flags.\n"
     ]
    }
   ],
   "source": [
    "import evaluate\n",
    "from evaluate import load\n",
    "import tensorflow_hub as hub\n",
    "from scipy.spatial import distance\n",
    "from datasets import load_dataset\n",
    "from sentence_transformers import SentenceTransformer, util"
   ]
  },
  {
   "cell_type": "code",
   "execution_count": 2,
   "metadata": {},
   "outputs": [],
   "source": [
    "bertscore = load(\"bertscore\")\n",
    "bleu = evaluate.load('bleu')\n",
    "rouge = evaluate.load('rouge')"
   ]
  },
  {
   "cell_type": "code",
   "execution_count": 3,
   "metadata": {},
   "outputs": [],
   "source": [
    "references = load_dataset('csv', data_files=r'/Users/adrianfolge/Documents/lokal:skole/Master/data/synthetic_data/question_with_answers.csv', split=\"train[:10]\")\n",
    "predictions = load_dataset('csv', data_files=r'/Users/adrianfolge/Documents/lokal:skole/Master/data/answers_from_model.csv')"
   ]
  },
  {
   "cell_type": "code",
   "execution_count": 4,
   "metadata": {},
   "outputs": [],
   "source": [
    "references = references[\"Answer\"]\n",
    "predictions = predictions[\"train\"][\"Text\"]"
   ]
  },
  {
   "cell_type": "code",
   "execution_count": 5,
   "metadata": {},
   "outputs": [
    {
     "name": "stderr",
     "output_type": "stream",
     "text": [
      "Warning: Empty candidate sentence detected; setting raw BERTscores to 0.\n"
     ]
    }
   ],
   "source": [
    "bert_score = bertscore.compute(predictions=predictions, references=references, lang=\"nb\")\n",
    "bleu_score = bleu.compute(predictions=predictions, references=references, max_order=2)\n",
    "rouge_score = rouge.compute(predictions=predictions, references=references)"
   ]
  },
  {
   "cell_type": "code",
   "execution_count": 6,
   "metadata": {},
   "outputs": [
    {
     "name": "stdout",
     "output_type": "stream",
     "text": [
      "BLEU SCORES\n",
      "{'bleu': 0.04627694342127828, 'precisions': [0.5238095238095238, 0.2732919254658385], 'brevity_penalty': 0.12231073353103171, 'length_ratio': 0.32245681381957775, 'translation_length': 168, 'reference_length': 521}\n",
      "ROUGE SCORES\n",
      "{'rouge1': 0.1904796827059792, 'rouge2': 0.12125085942689337, 'rougeL': 0.1689650527576143, 'rougeLsum': 0.17168244406196215}\n",
      "BERT SCORES\n",
      "Average Precision: 0.5430774986743927\n",
      "Average Recall: 0.44924169182777407\n",
      "Average F1 Score: 0.4900475561618805\n"
     ]
    }
   ],
   "source": [
    "avg_precision = sum(bert_score['precision']) / len(bert_score['precision'])\n",
    "avg_recall = sum(bert_score['recall']) / len(bert_score['recall'])\n",
    "avg_f1 = sum(bert_score['f1']) / len(bert_score['f1'])"
   ]
  },
  {
   "cell_type": "code",
   "execution_count": 8,
   "metadata": {},
   "outputs": [
    {
     "name": "stdout",
     "output_type": "stream",
     "text": [
      "\n",
      "Prediction: 26.8.2021\n",
      "Reference: Datoen for vedtaket av Kommunedelplan for sentrum av bystyret var 26.8.2021.\n",
      "Similarity Score = 0.16227787733078003 \n",
      "\n",
      "Prediction: Ønsker å legge et nødvendig faglig og legalt grunnlag for at Kristiansund sentrum skal videreutvikles som et attraktivt og framtidsrettet regionbysentrum med et pulserende folkeliv.\n",
      "Reference: Hovedintensjonene i planen beskrevet i dokumentet inkluderer å videreutvikle Kristiansund sentrum som et attraktivt og framtidsrettet regionbysentrum med et pulserende folkeliv. Dette inkluderer positiv utvikling av handels- og servicevirksomhet, god parkerings- og trafikksituasjon, hensyn til gjenreisningsarkitekturens formuttrykk, god framkommelighet og trygghet for alle grupper, et mangfold av kulturaktiviteter, ønske om flere boligprosjekter i sentrum, stimulering til flere arbeids- og skoleplasser i sentrum, og utvikling av sentrum til en regional attraktiv, tett og urban bolig-, handels- og kulturby med gode bymessige kvaliteter.\n",
      "Similarity Score = 0.759204626083374 \n",
      "\n",
      "Prediction: Ønsker om videreutvikling av Kristiansund sentrum er å gjøre det til et attraktivt, livlig bysentrum med en sterk handels- og servicesektor, bra tilgang og sikkerhet for alle, mangfoldige kulturaktiviteter og utvikle seg som en attraktiv, tett og urban bolig- og handelsbyregionell attrakjon.\n",
      "Reference: Hovedintensjonene bak planarbeidet for videreutvikling av Kristiansund sentrum inkluderer å gjøre sentrum til et attraktivt og framtidsrettet regionbysentrum med et pulserende folkeliv. Dette innebærer blant annet positiv utvikling av handels- og tjenestenæringen, god parkerings- og trafikksituasjon, hensyn til gjenreisningsarkitekturens formuttrykk, god framkommelighet og trygghet for alle grupper, et mangfold av kulturaktiviteter, innpassing av det nye opera- og kulturhuset i bylivet, ønske om flere boligprosjekter med fokus på barns bomiljø, stimulering til flere arbeids- og skoleplasser i sentrum, og utvikling av sentrum til en regional attraktiv, tett og urban bolig-, handels- og kulturby med gode bymessige kvaliteter.\n",
      "Similarity Score = 0.8751153424313476 \n",
      "\n",
      "Prediction: 5\n",
      "Reference: Ifølge tabellen, er kravet til antall sykkelparkeringsplasser for en skole med 10 årsverk 45 sykkelparkeringsplasser.\n",
      "Similarity Score = 0.0015288573214071732 \n",
      "\n",
      "Prediction: \n",
      "  \n",
      "Reference: Kravene for å sette opp skilt og reklameinnretninger i henhold til plan- og bygningsloven er at tillatelse fra kommunen kreves. Mindre skilt og reklameinnretninger på inntil 1,0 m² som monteres flatt på vegg for egen virksomhet kan unntaksvis settes opp uten tillatelse. Tillatelse kan gis inntil videre eller for et begrenset tidsrom, og skilt og reklameinnretninger skal utføres slik at de tilfredsstiller rimelige skjønnhetshensyn både i forhold til seg selv og i forhold til bakgrunn og omgivelser. Takreklame er ikke tillatt, og i områder med vernehensyn kan det stilles spesifikke krav til utforming og størrelse.\n",
      "Similarity Score = 0.0010526413097977638 \n",
      "\n",
      "Prediction: 4 m2 per boenhet\n",
      "Reference: Minimumsarealet som kreves for private uteoppholdsarealer for boenheter med inngang fra felles trappeoppgang er minimum 4 m2 per boenhet.\n",
      "Similarity Score = 0.20788457989692688 \n",
      "\n",
      "Prediction: 120 m2\n",
      "Reference: Minimumsarealet som skal avsettes til lekeplass for områder som ikke ligger i hensynssone kulturminne og hvor det etableres 5-20 nye boenheter er 120 m2.\n",
      "Similarity Score = 0.018883812047015947 \n",
      "\n",
      "Prediction: \n",
      "\n",
      "\n",
      "Reference: Områdene definert som \"Fritids- og turistformål\" skal benyttes til hotell og andre overnattings- og serveringsbedrifter. Områdene definert som \"Næringsbebyggelse\" skal benyttes til industri-, håndverks- og lagervirksomhet eller bensinstasjon.\n",
      "Similarity Score = -0.08669578968957992 \n",
      "\n",
      "Prediction: \n",
      "Basert på den gitte informasjonen er retningslinjene for bevaring av førkrigsbebyggelsen i hensynssonene H570_100-199 å tillate endringer på bebyggelsser i enlighet med H570-100-199 bare dersom eksteriøret holdes uendret eller renoveres tilbake til dokumentert tidligere utseende. \n",
      "Det er også et krav om høy håndverksmessig kvalitet på alle arbeider som skal utføres på eiendommene. I tillegg kan enklere forbedringer bli gjort på dekk, innganger, trapper, vinduer og dører, samt rengjøring og beskyttelse mot råteskade.\n",
      "Reference: Retningslinjene for bevaring av førkrigsbebyggelsen i hensynssonene H570_100-199 inkluderer at bebyggelsen bare tillates ombygd eller utbedret under forutsetning av at eksteriøret beholdes uendret eller føres tilbake til dokumentert tidligere utseende. Takform og byggehøyde skal alltid vurderes nærmere i det enkelte prosjekt, og takopplett og takarker kan aksepteres under visse betingelser. Balkonger på trehus skal ha materialbruk og farge som bygningen, mens balkonger på murhus skal ha rekkverk i mur eller grått/svart metallrekkverk uten glass.\n",
      "Similarity Score = 0.8985701920306518 \n",
      "\n",
      "Prediction: \n",
      "\n",
      "Reference: Kravene til taktekking for alle trehus i området er at taktekkingen skal være skifer eller skiferlignende materiale. Vinduene skal ha tradisjonell utforming.\n",
      "Similarity Score = -0.02254178747534752 \n",
      "Average similarity score: 0.2815280351286374\n"
     ]
    }
   ],
   "source": [
    "## SAS encoder score\n",
    "module_url = \"https://tfhub.dev/google/universal-sentence-encoder/4\"\n",
    "model = hub.load(module_url)\n",
    "print(\"module %s loaded\" % module_url)\n",
    " \n",
    " \n",
    "def embed(input):\n",
    "    return model(input)\n",
    "list_of_similarity_scores = []\n",
    "for i in range(len(predictions)):\n",
    "    similarity_score = 1-distance.cosine(embed([predictions[i]])[0, :],embed([references[i]])[0, :])\n",
    "    list_of_similarity_scores.append(similarity_score)\n",
    "    print(f'\\nPrediction: {predictions[i]}\\nReference: {references[i]}\\nSimilarity Score = {similarity_score} ')\n",
    "average_score = sum(list_of_similarity_scores) / len(list_of_similarity_scores)\n",
    "print(\"Average similarity score:\", average_score)"
   ]
  },
  {
   "cell_type": "code",
   "execution_count": 9,
   "metadata": {},
   "outputs": [],
   "source": [
    "## SAS transformer score\n",
    "model = SentenceTransformer('sentence-transformers/paraphrase-multilingual-mpnet-base-v2')\n",
    "\n",
    "def SAS(preds, refs):\n",
    "    similarities = []\n",
    "    embeddings_preds = model.encode(preds)\n",
    "    embeddings_refs = model.encode(refs)\n",
    "    for i in range(len(embeddings_preds)):\n",
    "        similarity = util.pytorch_cos_sim(embeddings_preds[i], embeddings_refs[i])\n",
    "        similarities.append(similarity[0][0].item())\n",
    "    average_similarity_score = sum(similarities) / len(similarities)\n",
    "    return average_similarity_score"
   ]
  },
  {
   "cell_type": "code",
   "execution_count": 10,
   "metadata": {},
   "outputs": [
    {
     "name": "stdout",
     "output_type": "stream",
     "text": [
      "0.5249271161854268\n"
     ]
    }
   ],
   "source": [
    "print(\"BLEU SCORES\")\n",
    "print(bleu_score)\n",
    "print(\"ROUGE SCORES\")\n",
    "print(rouge_score)\n",
    "print(\"BERT SCORES\")\n",
    "print(\"Average Precision:\", avg_precision)\n",
    "print(\"Average Recall:\", avg_recall)\n",
    "print(\"Average F1 Score:\", avg_f1)\n",
    "print(\"Average SAS encoder Score:\", average_score)\n",
    "print(\"Average SAS transformer Score:\", SAS(predictions, references))"
   ]
  }
 ],
 "metadata": {
  "kernelspec": {
   "display_name": "master",
   "language": "python",
   "name": "python3"
  },
  "language_info": {
   "codemirror_mode": {
    "name": "ipython",
    "version": 3
   },
   "file_extension": ".py",
   "mimetype": "text/x-python",
   "name": "python",
   "nbconvert_exporter": "python",
   "pygments_lexer": "ipython3",
   "version": "3.11.7"
  }
 },
 "nbformat": 4,
 "nbformat_minor": 2
}
