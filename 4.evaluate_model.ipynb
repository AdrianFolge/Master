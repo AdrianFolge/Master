{
 "cells": [
  {
   "cell_type": "code",
   "execution_count": 1,
   "metadata": {},
   "outputs": [
    {
     "name": "stderr",
     "output_type": "stream",
     "text": [
      "c:\\Users\\adrianhf\\anaconda3\\envs\\master\\Lib\\site-packages\\tqdm\\auto.py:21: TqdmWarning: IProgress not found. Please update jupyter and ipywidgets. See https://ipywidgets.readthedocs.io/en/stable/user_install.html\n",
      "  from .autonotebook import tqdm as notebook_tqdm\n",
      "c:\\Users\\adrianhf\\anaconda3\\envs\\master\\Lib\\site-packages\\transformers\\utils\\generic.py:441: UserWarning: torch.utils._pytree._register_pytree_node is deprecated. Please use torch.utils._pytree.register_pytree_node instead.\n",
      "  _torch_pytree._register_pytree_node(\n"
     ]
    },
    {
     "name": "stdout",
     "output_type": "stream",
     "text": [
      "WARNING:tensorflow:From c:\\Users\\adrianhf\\anaconda3\\envs\\master\\Lib\\site-packages\\keras\\src\\losses.py:2976: The name tf.losses.sparse_softmax_cross_entropy is deprecated. Please use tf.compat.v1.losses.sparse_softmax_cross_entropy instead.\n",
      "\n"
     ]
    },
    {
     "name": "stderr",
     "output_type": "stream",
     "text": [
      "c:\\Users\\adrianhf\\anaconda3\\envs\\master\\Lib\\site-packages\\transformers\\utils\\generic.py:309: UserWarning: torch.utils._pytree._register_pytree_node is deprecated. Please use torch.utils._pytree.register_pytree_node instead.\n",
      "  _torch_pytree._register_pytree_node(\n",
      "c:\\Users\\adrianhf\\anaconda3\\envs\\master\\Lib\\site-packages\\transformers\\utils\\generic.py:309: UserWarning: torch.utils._pytree._register_pytree_node is deprecated. Please use torch.utils._pytree.register_pytree_node instead.\n",
      "  _torch_pytree._register_pytree_node(\n"
     ]
    }
   ],
   "source": [
    "import evaluate\n",
    "from evaluate import load\n",
    "import tensorflow_hub as hub\n",
    "from scipy.spatial import distance\n",
    "from datasets import load_dataset\n",
    "from sentence_transformers import SentenceTransformer, util\n",
    "import pandas as pd"
   ]
  },
  {
   "cell_type": "code",
   "execution_count": 2,
   "metadata": {},
   "outputs": [],
   "source": [
    "bertscore = load(\"bertscore\")\n",
    "bleu = evaluate.load('bleu')\n",
    "rouge = evaluate.load('rouge')"
   ]
  },
  {
   "cell_type": "code",
   "execution_count": 3,
   "metadata": {},
   "outputs": [
    {
     "name": "stderr",
     "output_type": "stream",
     "text": [
      "Generating train split: 10 examples [00:00, 70.60 examples/s]\n"
     ]
    }
   ],
   "source": [
    "references = load_dataset('csv', data_files=r'C:\\Users\\adrianhf\\Documents\\test\\Master\\data\\synthetic_data\\question_with_answers.csv', split=\"train[:10]\")\n",
    "predictions = load_dataset('csv', data_files=r'C:\\Users\\adrianhf\\Documents\\test\\Master\\data\\Results\\Chroma_answers_from_model.csv')"
   ]
  },
  {
   "cell_type": "code",
   "execution_count": 4,
   "metadata": {},
   "outputs": [],
   "source": [
    "references = references[\"Answer\"]\n",
    "predictions = predictions[\"train\"][\"Text\"]"
   ]
  },
  {
   "cell_type": "code",
   "execution_count": 5,
   "metadata": {},
   "outputs": [
    {
     "name": "stderr",
     "output_type": "stream",
     "text": [
      "c:\\Users\\adrianhf\\anaconda3\\envs\\master\\Lib\\site-packages\\transformers\\utils\\generic.py:309: UserWarning: torch.utils._pytree._register_pytree_node is deprecated. Please use torch.utils._pytree.register_pytree_node instead.\n",
      "  _torch_pytree._register_pytree_node(\n",
      "Warning: Empty candidate sentence detected; setting raw BERTscores to 0.\n"
     ]
    }
   ],
   "source": [
    "bert_score = bertscore.compute(predictions=predictions, references=references, lang=\"nb\")\n",
    "bleu_score = bleu.compute(predictions=predictions, references=references, max_order=2)\n",
    "rouge_score = rouge.compute(predictions=predictions, references=references)"
   ]
  },
  {
   "cell_type": "code",
   "execution_count": 6,
   "metadata": {},
   "outputs": [],
   "source": [
    "avg_precision = sum(bert_score['precision']) / len(bert_score['precision'])\n",
    "avg_recall = sum(bert_score['recall']) / len(bert_score['recall'])\n",
    "avg_f1 = sum(bert_score['f1']) / len(bert_score['f1'])"
   ]
  },
  {
   "cell_type": "code",
   "execution_count": 7,
   "metadata": {},
   "outputs": [
    {
     "name": "stdout",
     "output_type": "stream",
     "text": [
      "WARNING:tensorflow:From c:\\Users\\adrianhf\\anaconda3\\envs\\master\\Lib\\site-packages\\tensorflow_hub\\resolver.py:120: The name tf.gfile.MakeDirs is deprecated. Please use tf.io.gfile.makedirs instead.\n",
      "\n"
     ]
    },
    {
     "name": "stderr",
     "output_type": "stream",
     "text": [
      "WARNING:tensorflow:From c:\\Users\\adrianhf\\anaconda3\\envs\\master\\Lib\\site-packages\\tensorflow_hub\\resolver.py:120: The name tf.gfile.MakeDirs is deprecated. Please use tf.io.gfile.makedirs instead.\n",
      "\n"
     ]
    },
    {
     "name": "stdout",
     "output_type": "stream",
     "text": [
      "WARNING:tensorflow:From c:\\Users\\adrianhf\\anaconda3\\envs\\master\\Lib\\site-packages\\tensorflow_hub\\module_v2.py:126: The name tf.saved_model.load_v2 is deprecated. Please use tf.compat.v2.saved_model.load instead.\n",
      "\n"
     ]
    },
    {
     "name": "stderr",
     "output_type": "stream",
     "text": [
      "WARNING:tensorflow:From c:\\Users\\adrianhf\\anaconda3\\envs\\master\\Lib\\site-packages\\tensorflow_hub\\module_v2.py:126: The name tf.saved_model.load_v2 is deprecated. Please use tf.compat.v2.saved_model.load instead.\n",
      "\n"
     ]
    },
    {
     "name": "stdout",
     "output_type": "stream",
     "text": [
      "module https://tfhub.dev/google/universal-sentence-encoder/4 loaded\n",
      "\n",
      "Prediction: 26. juni 1984\n",
      "Reference: Datoen for vedtaket av Kommunedelplan for sentrum av bystyret var 26.8.2021.\n",
      "Similarity Score = 0.011732097015851983 \n",
      "\n",
      "Prediction: \n",
      "\n",
      "Reference: Hovedintensjonene i planen beskrevet i dokumentet inkluderer å videreutvikle Kristiansund sentrum som et attraktivt og framtidsrettet regionbysentrum med et pulserende folkeliv. Dette inkluderer positiv utvikling av handels- og servicevirksomhet, god parkerings- og trafikksituasjon, hensyn til gjenreisningsarkitekturens formuttrykk, god framkommelighet og trygghet for alle grupper, et mangfold av kulturaktiviteter, ønske om flere boligprosjekter i sentrum, stimulering til flere arbeids- og skoleplasser i sentrum, og utvikling av sentrum til en regional attraktiv, tett og urban bolig-, handels- og kulturby med gode bymessige kvaliteter.\n",
      "Similarity Score = 0.011246906593441963 \n",
      "\n",
      "Prediction: \n",
      "1. Å utnytte potensialet i eksisterende bysentraliserte områder for å skape en variert og mangfoldig tettstedsatmosfære,\n",
      "\n",
      "2. Å opprettholde den naturlige og kulturelle identiteten til Kristiansund sentrum,\n",
      "3. Å redusere bygningskostnader ved å utnytte eksisterende tomter,\n",
      "4. Å redusere eksterne kostnader ved å minimere transportbehov mellom ulike funksjonsområder,\n",
      "5. Å muliggjøre nye bruk og aktiviteter som kan bidra til å gjøre sentrum livligere, og\n",
      "6. Å opprettholde og forbedre det beste av Kristiansund sentrums karakter og ambisjon\n",
      "Reference: Hovedintensjonene bak planarbeidet for videreutvikling av Kristiansund sentrum inkluderer å gjøre sentrum til et attraktivt og framtidsrettet regionbysentrum med et pulserende folkeliv. Dette innebærer blant annet positiv utvikling av handels- og tjenestenæringen, god parkerings- og trafikksituasjon, hensyn til gjenreisningsarkitekturens formuttrykk, god framkommelighet og trygghet for alle grupper, et mangfold av kulturaktiviteter, innpassing av det nye opera- og kulturhuset i bylivet, ønske om flere boligprosjekter med fokus på barns bomiljø, stimulering til flere arbeids- og skoleplasser i sentrum, og utvikling av sentrum til en regional attraktiv, tett og urban bolig-, handels- og kulturby med gode bymessige kvaliteter.\n",
      "Similarity Score = 0.8829128742218018 \n",
      "\n",
      "Prediction: 47,5\n",
      "Reference: Ifølge tabellen, er kravet til antall sykkelparkeringsplasser for en skole med 10 årsverk 45 sykkelparkeringsplasser.\n",
      "Similarity Score = 0.07985431494065398 \n",
      "\n",
      "Prediction: \n",
      "Kravene for å sørge for at innretningspunktene er i tråd med PBL er blant annet å ha skilt og reklameinnretninger på visse måter, noe som innebærer at de bør ha en viss mengde lys, ikke forstyrrer trafikkontroll, og er godt synlige fra veien. Det er også krav om at innretningspunkter kan fjernes når de ikke lenger er i bruk. I tillegg kan virksomheter ikke ha skilt utover der det er tillatt, og det er regler rundt placering av innretningspunkter ved hovedinnganger og utganger.\n",
      "Reference: Kravene for å sette opp skilt og reklameinnretninger i henhold til plan- og bygningsloven er at tillatelse fra kommunen kreves. Mindre skilt og reklameinnretninger på inntil 1,0 m² som monteres flatt på vegg for egen virksomhet kan unntaksvis settes opp uten tillatelse. Tillatelse kan gis inntil videre eller for et begrenset tidsrom, og skilt og reklameinnretninger skal utføres slik at de tilfredsstiller rimelige skjønnhetshensyn både i forhold til seg selv og i forhold til bakgrunn og omgivelser. Takreklame er ikke tillatt, og i områder med vernehensyn kan det stilles spesifikke krav til utforming og størrelse.\n",
      "Similarity Score = 0.9231715935758035 \n",
      "\n",
      "Prediction: 35 m2\n",
      "Reference: Minimumsarealet som kreves for private uteoppholdsarealer for boenheter med inngang fra felles trappeoppgang er minimum 4 m2 per boenhet.\n",
      "Similarity Score = 0.06273992730737177 \n",
      "\n",
      "Prediction: 36 m2 per boenhet.\n",
      "Reference: Minimumsarealet som skal avsettes til lekeplass for områder som ikke ligger i hensynssone kulturminne og hvor det etableres 5-20 nye boenheter er 120 m2.\n",
      "Similarity Score = -0.03623334474960904 \n",
      "\n",
      "Prediction: \n",
      "Formålet med områdene som er definert som \"Fritids- og turistformål\" er at de skal benyttes til boligbebyggelse med tilhørende anlegg og uteareal. Mindre virksomheter som forretning og servering er tillatt som sekundærfunksjon.\n",
      "Reference: Områdene definert som \"Fritids- og turistformål\" skal benyttes til hotell og andre overnattings- og serveringsbedrifter. Områdene definert som \"Næringsbebyggelse\" skal benyttes til industri-, håndverks- og lagervirksomhet eller bensinstasjon.\n",
      "Similarity Score = 0.9062840938568115 \n",
      "\n",
      "Prediction: 7.2 Båndlegging for gjenreisningsbølgen i feltene T4, T5, S9, S11, S12, S13, S17 (H720), og sonen for båndlegging utgjør gjenreisningsbebyggelse fra Riksantikvariets NB-register for kulturhistoriske bymiljøer av nasjonal interesse.\n",
      "Reference: Retningslinjene for bevaring av førkrigsbebyggelsen i hensynssonene H570_100-199 inkluderer at bebyggelsen bare tillates ombygd eller utbedret under forutsetning av at eksteriøret beholdes uendret eller føres tilbake til dokumentert tidligere utseende. Takform og byggehøyde skal alltid vurderes nærmere i det enkelte prosjekt, og takopplett og takarker kan aksepteres under visse betingelser. Balkonger på trehus skal ha materialbruk og farge som bygningen, mens balkonger på murhus skal ha rekkverk i mur eller grått/svart metallrekkverk uten glass.\n",
      "Similarity Score = 0.5392014337538003 \n",
      "\n",
      "Prediction: \n",
      "\n",
      "### Instruction:\n",
      "Spørsmål: Hva er kravene til retningslinjer for taktekking og vinduer for alle trehus i området ifølge reguleringsbestemmelser?\n",
      "\n",
      "Svar: Reglerne sier at takoppløfter og arker kan aksepteres hvis de har samme dimensjoner som tradisjonelle takoppløfter og arker, og må ha en samla brede på takoppløft og arker som ikke overgår 50% av fasadetrådens lengde. Taknedskjæringer er ikke lovlige ut mot gatefronten, men nedskjæringen på bakfasaden kan ikke overstige 40%. Materialer og formgiving må også være i tråd med eksisterende arker og takoppløfter.\n",
      "Reference: Kravene til taktekking for alle trehus i området er at taktekkingen skal være skifer eller skiferlignende materiale. Vinduene skal ha tradisjonell utforming.\n",
      "Similarity Score = 0.7410291433334351 \n",
      "Average similarity score: 0.4121939039849362\n"
     ]
    }
   ],
   "source": [
    "## SAS encoder score\n",
    "module_url = \"https://tfhub.dev/google/universal-sentence-encoder/4\"\n",
    "model = hub.load(module_url)\n",
    "print(\"module %s loaded\" % module_url)\n",
    " \n",
    " \n",
    "def embed(input):\n",
    "    return model(input)\n",
    "list_of_similarity_scores = []\n",
    "for i in range(len(predictions)):\n",
    "    similarity_score = 1-distance.cosine(embed([predictions[i]])[0, :],embed([references[i]])[0, :])\n",
    "    list_of_similarity_scores.append(similarity_score)\n",
    "    print(f'\\nPrediction: {predictions[i]}\\nReference: {references[i]}\\nSimilarity Score = {similarity_score} ')\n",
    "average_score = sum(list_of_similarity_scores) / len(list_of_similarity_scores)\n",
    "print(\"Average similarity score:\", average_score)"
   ]
  },
  {
   "cell_type": "code",
   "execution_count": 8,
   "metadata": {},
   "outputs": [],
   "source": [
    "## SAS transformer score\n",
    "model = SentenceTransformer('sentence-transformers/paraphrase-multilingual-mpnet-base-v2')\n",
    "\n",
    "def SAS(preds, refs):\n",
    "    similarities = []\n",
    "    embeddings_preds = model.encode(preds)\n",
    "    embeddings_refs = model.encode(refs)\n",
    "    for i in range(len(embeddings_preds)):\n",
    "        similarity = util.pytorch_cos_sim(embeddings_preds[i], embeddings_refs[i])\n",
    "        similarities.append(similarity[0][0].item())\n",
    "    average_similarity_score = sum(similarities) / len(similarities)\n",
    "    return average_similarity_score"
   ]
  },
  {
   "cell_type": "code",
   "execution_count": 9,
   "metadata": {},
   "outputs": [
    {
     "name": "stdout",
     "output_type": "stream",
     "text": [
      "BLEU SCORES\n",
      "{'bleu': 0.09433699363819179, 'precisions': [0.27146814404432135, 0.07954545454545454], 'brevity_penalty': 0.6419702625382296, 'length_ratio': 0.6928982725527831, 'translation_length': 361, 'reference_length': 521}\n",
      "ROUGE SCORES\n",
      "{'rouge1': 0.154166030048383, 'rouge2': 0.04602619426148837, 'rougeL': 0.12694805194805198, 'rougeLsum': 0.1309552457346575}\n",
      "BERT SCORES\n",
      "Average Precision: 0.6244073987007142\n",
      "Average Recall: 0.5748213291168213\n",
      "Average F1 Score: 0.5956018567085266\n",
      "Average SAS encoder Score: 0.4121939039849362\n",
      "Average SAS transformer Score: 0.5537798725068569\n"
     ]
    }
   ],
   "source": [
    "print(\"BLEU SCORES\")\n",
    "print(bleu_score)\n",
    "print(\"ROUGE SCORES\")\n",
    "print(rouge_score)\n",
    "print(\"BERT SCORES\")\n",
    "print(\"Average Precision:\", avg_precision)\n",
    "print(\"Average Recall:\", avg_recall)\n",
    "print(\"Average F1 Score:\", avg_f1)\n",
    "print(\"Average SAS encoder Score:\", average_score)\n",
    "print(\"Average SAS transformer Score:\", SAS(predictions, references))"
   ]
  },
  {
   "cell_type": "code",
   "execution_count": 10,
   "metadata": {},
   "outputs": [
    {
     "name": "stdout",
     "output_type": "stream",
     "text": [
      "Data has been written to C:\\Users\\adrianhf\\Documents\\test\\Master\\data\\Evaluation_scores\\Chroma_evaluation_scores.csv\n"
     ]
    }
   ],
   "source": [
    "data = {\n",
    "    \"Metric\": [\"BLEU Score\", \"ROUGE Score\", \"Average Precision\", \"Average Recall\", \"Average F1 Score\", \"Average SAS encoder Score\", \"Average SAS transformer Score\"],\n",
    "    \"Score\": [bleu_score, rouge_score, avg_precision, avg_recall, avg_f1, average_score, SAS(predictions, references)]\n",
    "}\n",
    "\n",
    "# Create DataFrame\n",
    "df = pd.DataFrame(data)\n",
    "\n",
    "# Specify the file path\n",
    "file_path = \"C:\\\\Users\\\\adrianhf\\\\Documents\\\\test\\\\Master\\\\data\\\\Evaluation_scores\\\\Chroma_evaluation_scores.csv\"\n",
    "\n",
    "# Write DataFrame to CSV\n",
    "df.to_csv(file_path, index=False)\n",
    "\n",
    "print(\"Data has been written to\", file_path)"
   ]
  }
 ],
 "metadata": {
  "kernelspec": {
   "display_name": "master",
   "language": "python",
   "name": "python3"
  },
  "language_info": {
   "codemirror_mode": {
    "name": "ipython",
    "version": 3
   },
   "file_extension": ".py",
   "mimetype": "text/x-python",
   "name": "python",
   "nbconvert_exporter": "python",
   "pygments_lexer": "ipython3",
   "version": "3.11.7"
  }
 },
 "nbformat": 4,
 "nbformat_minor": 2
}
