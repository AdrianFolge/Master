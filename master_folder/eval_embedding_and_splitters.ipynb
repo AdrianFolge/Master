{
 "cells": [
  {
   "cell_type": "code",
   "execution_count": null,
   "metadata": {},
   "outputs": [],
   "source": [
    "from naive_rag import naive_rag\n",
    "from init_vectorstore import init_vectorstore\n",
    "from langchain_experimental.text_splitter import SemanticChunker\n",
    "from ragas_func import ragas_with_params\n",
    "import os\n",
    "from langchain_text_splitters import CharacterTextSplitter, RecursiveCharacterTextSplitter\n",
    "from langchain_openai import OpenAIEmbeddings\n",
    "from langchain_community.embeddings import SentenceTransformerEmbeddings\n",
    "from datasets import load_dataset\n",
    "import pandas as pd\n",
    "import matplotlib.pyplot as plt\n",
    "os.environ[\"OPENAI_API_KEY\"] = \"sk-proj-eZ7RgSAYfMCqsHtKkt7DT3BlbkFJ2WvLlx4KoAai5PUJrodw\""
   ]
  },
  {
   "cell_type": "markdown",
   "metadata": {},
   "source": [
    "## Vectorstores: ChromaDB, FAISS, Qdrant\n",
    "## Embeddings: \"text-embedding-3-large\", \"paraphrase-multilingual-mpnet-base-v2\", \"multilingual-e5-large\"\n",
    "## Text splitters: CharacterTextSplitter, RecursiveCharacterTextSplitter, SemanticChunker \n"
   ]
  },
  {
   "cell_type": "code",
   "execution_count": null,
   "metadata": {},
   "outputs": [],
   "source": [
    "instances = 20\n",
    "file_path = \"/Users/adrianfolge/Documents/lokal:skole/Master/data/synthetic_data/vol2_questions_and_answers_ytterligere_revidert.csv\""
   ]
  },
  {
   "cell_type": "code",
   "execution_count": null,
   "metadata": {},
   "outputs": [],
   "source": [
    "references = load_dataset('csv', data_files=file_path, split=f\"train[:{instances}]\")\n",
    "refs = references[\"svar\"]\n",
    "questions = references[\"spørsmål\"]"
   ]
  },
  {
   "cell_type": "code",
   "execution_count": null,
   "metadata": {},
   "outputs": [],
   "source": [
    "recursive_text_splitter = RecursiveCharacterTextSplitter(chunk_size=500, chunk_overlap=0)\n",
    "character_text_splitter = CharacterTextSplitter(chunk_size=500, chunk_overlap=0)\n",
    "semantic_text_splitter = SemanticChunker(\n",
    "    OpenAIEmbeddings(), breakpoint_threshold_type=\"percentile\"\n",
    ")"
   ]
  },
  {
   "cell_type": "code",
   "execution_count": null,
   "metadata": {},
   "outputs": [],
   "source": [
    "embeddings_para = SentenceTransformerEmbeddings(model_name='sentence-transformers/paraphrase-multilingual-mpnet-base-v2')\n",
    "embeddings_multiling = SentenceTransformerEmbeddings(model_name='intfloat/multilingual-e5-large')\n",
    "embeddings_openai = OpenAIEmbeddings(model=\"text-embedding-3-large\")"
   ]
  },
  {
   "cell_type": "code",
   "execution_count": null,
   "metadata": {},
   "outputs": [],
   "source": [
    "text_splitters = [semantic_text_splitter,recursive_text_splitter, character_text_splitter]\n",
    "embeddings = [embeddings_para, embeddings_multiling, embeddings_openai]"
   ]
  },
  {
   "cell_type": "code",
   "execution_count": null,
   "metadata": {},
   "outputs": [],
   "source": [
    "list_of_scores = []\n",
    "for text_splitter in text_splitters:\n",
    "    for embedding in embeddings:\n",
    "        databases = init_vectorstore(embedding, text_splitter)\n",
    "        naive_rag_list = naive_rag(instances, file_path, databases)\n",
    "        naive_rag_score = ragas_with_params(naive_rag_list, questions, naive_rag_list, refs)\n",
    "        score = {\n",
    "            \"text_splitter\": text_splitter,\n",
    "            \"embedding model\": embedding,\n",
    "            \"score\": naive_rag_score\n",
    "        }\n",
    "        list_of_scores.append(score)\n",
    "        "
   ]
  },
  {
   "cell_type": "code",
   "execution_count": null,
   "metadata": {},
   "outputs": [],
   "source": [
    "with open('/Users/adrianfolge/Documents/lokal:skole/Master/master_folder/eval_data/embeddings_and_text_splitters_Qdrant.txt', 'w') as f:\n",
    "    for item in list_of_scores:\n",
    "        f.write(str(item) + '\\n')"
   ]
  },
  {
   "cell_type": "code",
   "execution_count": null,
   "metadata": {},
   "outputs": [],
   "source": [
    "# Data\n",
    "data = {\n",
    "    'Vectorstore': ['FAISS', 'FAISS', 'FAISS', 'FAISS', 'FAISS', 'FAISS', 'FAISS', 'FAISS', 'FAISS'],\n",
    "    'Embedding model': ['mpnet', 'e5', 'Open AI', 'mpnet', 'e5', 'Open AI', 'mpnet', 'e5', 'Open AI'],\n",
    "    'Text splitter': ['Semantic', 'Semantic', 'Semantic', 'Recursive', 'Recursive', 'Recursive', 'Character', 'Character', 'Character'],\n",
    "    'Context precision': [0.7000, 0.8000, 0.8500, 0.9500, 0.9500, 0.9500, 0.9000, 0.9000, 0.9500],\n",
    "    'Faithfulness': [0.9531, 0.9667, 0.9750, 0.9692, 0.9900, 0.9692, 0.9608, 0.9775, 0.9817],\n",
    "    'Answer relevancy': [0.7933, 0.7846, 0.8153, 0.8551, 0.8294, 0.8373, 0.8676, 0.8168, 0.8395],\n",
    "    'Context recall': [0.8875, 0.9250, 0.9375, 0.8625, 0.8750, 0.8375, 0.8875, 0.9000, 0.8625]\n",
    "}\n",
    "\n",
    "# Create DataFrame\n",
    "df = pd.DataFrame(data)\n",
    "\n",
    "# Calculate average score for each row\n",
    "df['Average'] = df[['Context precision', 'Faithfulness', 'Answer relevancy', 'Context recall']].mean(axis=1)\n",
    "\n",
    "# Plot\n",
    "plt.figure(figsize=(10, 6))\n",
    "plt.bar(df.index, df['Average'], color='skyblue')\n",
    "plt.ylabel('Average Score')\n",
    "plt.title('Average Score for Qdrant DB (Norwegian)')\n",
    "plt.xticks(df.index, df['Embedding model'] + ' - ' + df['Text splitter'], rotation=45)\n",
    "plt.ylim(0.8, 1)\n",
    "plt.tight_layout()\n",
    "plt.show()"
   ]
  }
 ],
 "metadata": {
  "kernelspec": {
   "display_name": "MASTER",
   "language": "python",
   "name": "python3"
  },
  "language_info": {
   "codemirror_mode": {
    "name": "ipython",
    "version": 3
   },
   "file_extension": ".py",
   "mimetype": "text/x-python",
   "name": "python",
   "nbconvert_exporter": "python",
   "pygments_lexer": "ipython3",
   "version": "3.11.7"
  }
 },
 "nbformat": 4,
 "nbformat_minor": 2
}
