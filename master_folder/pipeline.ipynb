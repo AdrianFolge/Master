{
 "cells": [
  {
   "cell_type": "code",
   "execution_count": 6,
   "metadata": {},
   "outputs": [],
   "source": [
    "from corrective_rag import corrective_rag_test\n",
    "from naive_rag import naive_rag_translated\n",
    "import os"
   ]
  },
  {
   "cell_type": "code",
   "execution_count": 7,
   "metadata": {},
   "outputs": [],
   "source": [
    "os.environ[\"OPENAI_API_KEY\"] = \"sk-proj-evsUSED5Ydi1SmYEAOPjT3BlbkFJhiYFM06VhngBlnlaiGMC\""
   ]
  },
  {
   "cell_type": "code",
   "execution_count": 8,
   "metadata": {},
   "outputs": [
    {
     "name": "stderr",
     "output_type": "stream",
     "text": [
      "100%|██████████| 10/10 [00:06<00:00,  1.43it/s]\n",
      "Created a chunk of size 1147, which is longer than the specified 500\n",
      "Created a chunk of size 1570, which is longer than the specified 500\n",
      "Created a chunk of size 639, which is longer than the specified 500\n",
      "Created a chunk of size 610, which is longer than the specified 500\n",
      "Created a chunk of size 1008, which is longer than the specified 500\n",
      "Created a chunk of size 545, which is longer than the specified 500\n",
      "Created a chunk of size 536, which is longer than the specified 500\n",
      "Created a chunk of size 583, which is longer than the specified 500\n",
      "Created a chunk of size 1162, which is longer than the specified 500\n",
      "Created a chunk of size 607, which is longer than the specified 500\n",
      "Created a chunk of size 1206, which is longer than the specified 500\n",
      "Created a chunk of size 697, which is longer than the specified 500\n",
      "Created a chunk of size 734, which is longer than the specified 500\n",
      "Created a chunk of size 916, which is longer than the specified 500\n",
      "Created a chunk of size 916, which is longer than the specified 500\n",
      "Created a chunk of size 509, which is longer than the specified 500\n",
      "Created a chunk of size 603, which is longer than the specified 500\n",
      "Created a chunk of size 519, which is longer than the specified 500\n",
      "Created a chunk of size 519, which is longer than the specified 500\n",
      "Created a chunk of size 634, which is longer than the specified 500\n",
      "Created a chunk of size 522, which is longer than the specified 500\n",
      "Created a chunk of size 513, which is longer than the specified 500\n",
      "Created a chunk of size 930, which is longer than the specified 500\n",
      "Created a chunk of size 530, which is longer than the specified 500\n",
      "Created a chunk of size 665, which is longer than the specified 500\n",
      "Created a chunk of size 518, which is longer than the specified 500\n",
      "Created a chunk of size 518, which is longer than the specified 500\n",
      "Created a chunk of size 590, which is longer than the specified 500\n",
      "Created a chunk of size 590, which is longer than the specified 500\n",
      "Created a chunk of size 923, which is longer than the specified 500\n",
      "Created a chunk of size 923, which is longer than the specified 500\n",
      "Created a chunk of size 638, which is longer than the specified 500\n",
      "Created a chunk of size 504, which is longer than the specified 500\n",
      "Created a chunk of size 662, which is longer than the specified 500\n",
      "Created a chunk of size 564, which is longer than the specified 500\n",
      "Created a chunk of size 525, which is longer than the specified 500\n",
      "Created a chunk of size 535, which is longer than the specified 500\n",
      "Created a chunk of size 799, which is longer than the specified 500\n",
      "Created a chunk of size 548, which is longer than the specified 500\n",
      "Created a chunk of size 671, which is longer than the specified 500\n",
      "Created a chunk of size 535, which is longer than the specified 500\n",
      "Created a chunk of size 724, which is longer than the specified 500\n",
      "Created a chunk of size 2724, which is longer than the specified 500\n",
      "Created a chunk of size 2250, which is longer than the specified 500\n",
      "Created a chunk of size 2864, which is longer than the specified 500\n"
     ]
    },
    {
     "name": "stdout",
     "output_type": "stream",
     "text": [
      "['Kommunedelplan for sentrum\\n\\nPlanbestemmelser\\n\\nVedtatt av bystyret 26. august 2021\\n\\n1\\n\\n1.\\n\\nPLANENS HOVEDINTENSJONER ......................................... ................................................................... ............... 3\\n\\n2.\\n\\nPLANENS JURIDISKE VIRKNING ........................................ ................................................... ......................... 3\\n\\n3.', 'Retningslinjer for NB! område Kristiansund sentrum, H570_1 Bygningsmessige tiltak skal passe inn i eksisterende bystruktur. Brente Steders Regulering (BSR) (reguleringsplan R-007, stadfestet i 1946) og gjenreisningsarkitekturen skal utgjøre hovedtrekkene i bymiljøet. Gater, plasser og bygningsmiljøer med utgangspunkt i denne historiske perioden skal fortsatt være lesbare som en planmessig helhetlig utvikling og danne rammen for videre utvikling.\\n\\n8', 'FELLES BESTEMMELSER ........................................................ ................................................ .. ........................ 3', 'Retningslinjer for NB! område Kristiansund sentrum, H570_1 Bygningsmessige tiltak skal passe inn i eksisterende bystruktur. Brente Steders Regulering (BSR) (reguleringsplan R-007, stadfestet i 1946) og gjenreisningsarkitekturen skal utgjøre hovedtrekkene i bymiljøet. Gater, plasser og bygningsmiljøer med utgangspunkt i denne historiske perioden skal fortsatt være lesbare som en planmessig helhetlig utvikling og danne rammen for videre utvikling.\\n\\n8', 'Retningslinjer for NB! område Kristiansund sentrum, H570_1 Bygningsmessige tiltak skal passe inn i eksisterende bystruktur. Brente Steders Regulering (BSR) (reguleringsplan R-007, stadfestet i 1946) og gjenreisningsarkitekturen skal utgjøre hovedtrekkene i bymiljøet. Gater, plasser og bygningsmiljøer med utgangspunkt i denne historiske perioden skal fortsatt være lesbare som en planmessig helhetlig utvikling og danne rammen for videre utvikling.\\n\\n8']\n"
     ]
    }
   ],
   "source": [
    "instances = 5\n",
    "file_path = \"/Users/adrianfolge/Documents/lokal:skole/Master/data/synthetic_data/vol2_questions_and_answers.csv\"\n",
    "print(naive_rag_translated(instances,file_path))"
   ]
  }
 ],
 "metadata": {
  "kernelspec": {
   "display_name": "MASTER",
   "language": "python",
   "name": "python3"
  },
  "language_info": {
   "codemirror_mode": {
    "name": "ipython",
    "version": 3
   },
   "file_extension": ".py",
   "mimetype": "text/x-python",
   "name": "python",
   "nbconvert_exporter": "python",
   "pygments_lexer": "ipython3",
   "version": "3.11.7"
  }
 },
 "nbformat": 4,
 "nbformat_minor": 2
}
