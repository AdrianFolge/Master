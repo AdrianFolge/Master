{
 "cells": [
  {
   "cell_type": "code",
   "execution_count": null,
   "metadata": {},
   "outputs": [],
   "source": [
    "from corrective_rag import corrective_rag_translated\n",
    "from simple_agent_rag import simple_agent_rag, simple_agent_rag_translated\n",
    "from naive_rag import naive_rag_translated, naive_rag\n",
    "from react_rag import react_rag, react_rag_translated\n",
    "from init_vectorstore import init_vectorstore\n",
    "from evaluate_model import evaluate_model\n",
    "from ensemble_model import ensemble_models\n",
    "from semantic_model import semantic_model\n",
    "from init_vectorstore import init_semantic_vectorstore\n",
    "import os\n",
    "from langchain_text_splitters import CharacterTextSplitter\n",
    "from langchain_openai import OpenAIEmbeddings\n",
    "from datasets import load_dataset\n",
    "import matplotlib.pyplot as plt"
   ]
  },
  {
   "cell_type": "code",
   "execution_count": null,
   "metadata": {},
   "outputs": [],
   "source": [
    "os.environ[\"OPENAI_API_KEY\"] = \"sk-proj-NyOIGT3EsORVYyYth6kUT3BlbkFJG4Hf0tNzfhB4BFZMgMXT\""
   ]
  },
  {
   "cell_type": "code",
   "execution_count": null,
   "metadata": {},
   "outputs": [],
   "source": [
    "instances = 10\n",
    "file_path = \"/Users/adrianfolge/Documents/lokal:skole/Master/data/synthetic_data/vol2_questions_and_answers_ytterligere_revidert.csv\""
   ]
  },
  {
   "cell_type": "code",
   "execution_count": null,
   "metadata": {},
   "outputs": [],
   "source": [
    "text_splitter = CharacterTextSplitter(chunk_size=500, chunk_overlap=0)\n",
    "embeddings = OpenAIEmbeddings(model=\"text-embedding-3-large\")"
   ]
  },
  {
   "cell_type": "code",
   "execution_count": null,
   "metadata": {},
   "outputs": [],
   "source": [
    "databases = init_vectorstore(embeddings, text_splitter)\n",
    "databases_translated = init_vectorstore(embeddings, text_splitter, translate=True)\n",
    "semantic_databases = init_semantic_vectorstore()"
   ]
  },
  {
   "cell_type": "code",
   "execution_count": null,
   "metadata": {},
   "outputs": [],
   "source": [
    "corrective_rag_translated_list = corrective_rag_translated(instances, file_path, databases_translated)\n",
    "simple_agent_rag_list = simple_agent_rag(instances, file_path, databases)\n",
    "simple_agent_rag_translated_list = simple_agent_rag_translated(instances, file_path, databases_translated)\n",
    "naive_rag_list = naive_rag(instances, file_path, databases)\n",
    "naive_rag_translated_list = naive_rag_translated(instances, file_path, databases_translated)\n",
    "react_rag_translated_list = react_rag_translated(instances, file_path, databases_translated)\n",
    "react_rag_list, list_of_context = react_rag(instances, file_path, databases)\n",
    "semantic_preds = semantic_model(instances, file_path, semantic_databases)"
   ]
  },
  {
   "cell_type": "code",
   "execution_count": null,
   "metadata": {},
   "outputs": [],
   "source": [
    "references = load_dataset('csv', data_files=file_path, split=f\"train[:{instances}]\")\n",
    "refs = references[\"svar\"]\n",
    "print(\"Scores for corrective RAG\")\n",
    "corrective_rag_score = evaluate_model(corrective_rag_translated_list, refs, instances)\n",
    "print(\"#############\")\n",
    "print(\"Scores for simple agent\")\n",
    "simple_agent_score = evaluate_model(simple_agent_rag_list, refs, instances)\n",
    "print(\"#############\")\n",
    "print(\"Scores for simple agent translated\")\n",
    "simple_agent_translated_score = evaluate_model(simple_agent_rag_translated_list, refs, instances)\n",
    "print(\"#############\")\n",
    "print(\"Scores for naive rag\")\n",
    "naive_rag_score = evaluate_model(naive_rag_list, refs, instances)\n",
    "print(\"#############\")\n",
    "print(\"Scores for naive rag translated\")\n",
    "naive_rag_translated_score = evaluate_model(naive_rag_translated_list, refs, instances)\n",
    "print(\"#############\")\n",
    "print(\"Scores for react RAG\")\n",
    "react_rag_score = evaluate_model(react_rag_list, refs, instances)\n",
    "print(\"#############\")\n",
    "print(\"Scores for react RAG translated\")\n",
    "react_rag_translated_score = evaluate_model(react_rag_translated_list, refs, instances)\n",
    "print(\"#############\")"
   ]
  },
  {
   "cell_type": "code",
   "execution_count": null,
   "metadata": {},
   "outputs": [],
   "source": [
    "def create_predictions_dict(*lists):\n",
    "    predictions_dict = {}\n",
    "    for i, lst in enumerate(lists, start=1):\n",
    "        key = f\"Prediction {i}\"\n",
    "        predictions_dict[key] = lst\n",
    "    return predictions_dict"
   ]
  },
  {
   "cell_type": "code",
   "execution_count": null,
   "metadata": {},
   "outputs": [],
   "source": [
    "predictions_dict = create_predictions_dict(corrective_rag_translated_list, simple_agent_rag_list, simple_agent_rag_translated_list, naive_rag_list, naive_rag_translated_list, react_rag_translated_list, react_rag_list)\n",
    "ensembling_models = ensemble_models(predictions_dict, references, instances, list_of_context)\n",
    "print(\"Scores for the ensembled model\")\n",
    "ensemble_models_score = evaluate_model(ensembling_models, refs, instances)\n",
    "print(\"#############\")"
   ]
  },
  {
   "cell_type": "code",
   "execution_count": null,
   "metadata": {},
   "outputs": [],
   "source": [
    "# Scores for each model (example data)\n",
    "model_names = [\"Corrective RAG\", \"Simple agent\", \"Simple agent translated\", \"Naive rag\", \"Naive rag translated\", \"React rag\", \"React rag translated\", \"Model ensembling\"]\n",
    "scores = [corrective_rag_score, simple_agent_score, simple_agent_translated_score, naive_rag_score, naive_rag_translated_score, react_rag_score, react_rag_translated_score, ensemble_models_score]\n",
    "\n",
    "# Plotting\n",
    "plt.figure(figsize=(10, 6))\n",
    "plt.bar(model_names, scores, color='skyblue')\n",
    "plt.xlabel('Models')\n",
    "plt.ylabel('Scores')\n",
    "plt.title('Scores of Different Models')\n",
    "plt.ylim(0, 1)  # Set y-axis limits to 0 and 1\n",
    "plt.grid(axis='y', linestyle='--', alpha=0.7)\n",
    "plt.xticks(rotation=45, ha='right')\n",
    "plt.show()"
   ]
  }
 ],
 "metadata": {
  "kernelspec": {
   "display_name": "MASTER",
   "language": "python",
   "name": "python3"
  },
  "language_info": {
   "codemirror_mode": {
    "name": "ipython",
    "version": 3
   },
   "file_extension": ".py",
   "mimetype": "text/x-python",
   "name": "python",
   "nbconvert_exporter": "python",
   "pygments_lexer": "ipython3",
   "version": "3.11.7"
  }
 },
 "nbformat": 4,
 "nbformat_minor": 2
}
