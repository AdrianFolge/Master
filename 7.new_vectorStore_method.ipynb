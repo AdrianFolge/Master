{
 "cells": [
  {
   "cell_type": "code",
   "execution_count": 25,
   "metadata": {},
   "outputs": [],
   "source": [
    "from datasets import load_dataset\n",
    "from langchain_text_splitters import CharacterTextSplitter\n",
    "from langchain_community.document_loaders import UnstructuredFileLoader, DirectoryLoader\n",
    "from langchain_community.embeddings import SentenceTransformerEmbeddings\n",
    "from langchain_community.vectorstores import FAISS\n",
    "import re"
   ]
  },
  {
   "cell_type": "code",
   "execution_count": 4,
   "metadata": {},
   "outputs": [],
   "source": [
    "references = load_dataset('csv', data_files=r'/Users/adrianfolge/Documents/lokal:skole/Master/data/synthetic_data/question_with_answers.csv', split=\"train[:50]\")"
   ]
  },
  {
   "cell_type": "code",
   "execution_count": 5,
   "metadata": {},
   "outputs": [
    {
     "data": {
      "text/plain": [
       "['Hva er datoen for vedtaket av Kommunedelplan for sentrum av bystyret?',\n",
       " 'Hva er hovedintensjonene i planen som er beskrevet i dokumentet?',\n",
       " 'Hva er hovedintensjonene bak planarbeidet for videreutvikling av Kristiansund sentrum?',\n",
       " 'Hva er kravet til antall sykkelparkeringsplasser for en skole med 10 årsverk ifølge tabellen?',\n",
       " 'Hva er kravene for å sette opp skilt og reklameinnretninger i henhold til plan- og bygningsloven?',\n",
       " 'Hva er minimumsarealet som kreves for private uteoppholdsarealer for boenheter med inngang fra felles trappeoppgang?',\n",
       " 'Hva er minimumsarealet som skal avsettes til lekeplass for områder som ikke ligger i hensynssone kulturminne og hvor det etableres 5-20 nye boenheter?',\n",
       " 'Hva er formålet med områdene som er definert som \"Fritids- og turistformål\" og \"Næringsbebyggelse\" i dokumentet?',\n",
       " 'Hva er retningslinjene for bevaring av førkrigsbebyggelsen i hensynssonene H570_100-199?',\n",
       " 'Hva er kravene til taktekking og vinduer for alle trehus i området i henhold til reguleringsbestemmelsene?',\n",
       " 'Hva er formålet med områdene avsatt til grønnstruktur i henhold til reguleringsplanen?',\n",
       " 'Hva er datoen for den siste revisjonen av dokumentet?',\n",
       " 'Hva er hovedformålet med planbestemmelsene for Leiret datert 30.05.2018, revidert 08.08.2019?',\n",
       " 'Hva er formålet med båndleggingssonen H720 for gjenreisningsbebyggelse i feltene O_T4, O_T5, S9, S11, S12, S13, S17?',\n",
       " 'Hva er hovedformålet med kommunedelplanen i Leiret i henhold til Plan- og bygningsloven?',\n",
       " 'Hva er de tre kriteriene som må oppfylles for at plankrav kan fravikes og utbygging behandles som enkeltsak etter plan- og bygningslovens saksbehandlingsregler?',\n",
       " 'Hva er kravene som må oppfylles før utbygging kan finne sted ifølge PBL § 11-9 punkt 4?',\n",
       " 'Hva er kravene til universell utforming i reguleringsplaner og byggesaker i henhold til PBL § 11-9 nr 5?',\n",
       " 'Hva er kravet til minste uteoppholdsareal (MUA) for lavblokk/høyblokk innenfor bykjernen med en BRA på under 55 m2?',\n",
       " 'Hva er kravet til antall lekeapparat på en nærlekeplass som betjener opp til 20 boenheter for eneboliger?',\n",
       " 'Hva er minimumskravet for antall parkeringsplasser for industribygg basert på BRA (bruttoareal)?',\n",
       " 'Hva er kravene til håndtering av overvann i planområdet ifølge planbestemmelsene?',\n",
       " 'Hva er kravene til luftkvalitet i planbestemmelsene for Leiret?',\n",
       " 'Hva er de maksimale tillatte byggehøydene og gesimshøydene som må reguleres i henhold til planbestemmelsene?',\n",
       " 'Hva er hovedformålet med områder for sentrumsformål i henhold til planbestemmelsene?',\n",
       " 'Hva er tillatt bruk av 1. etasje og underetasje som vender mot offentlig gate i områdene i henhold til planbestemmelsene?',\n",
       " 'Hva er kravene for opparbeidelse av bilfrie torg og offentlige plasser i planbestemmelsene?',\n",
       " 'Hvilken avstandskrav gjelder for tiltak langs Glomma med sidevassdrag ifølge PBL §11-11 nr 5b?',\n",
       " 'Hva er formålet med båndleggingen for gjenreisningsbebyggelse i sonene o_T4, o_T5, S9, S11, S12, S13, S17?',\n",
       " 'Hva er kravene til eventuelle tiltak på gjenreisningsbebyggelse eller nybygg/påbygg/tilbygg i henhold til planbestemmelsene for Leiret?',\n",
       " 'Hvilket formål skal Kystsoneplanen for Kvænangen kommune tjene ifølge bestemmelsene?',\n",
       " 'Hva er kravet for å utarbeide nye regulerings- eller detaljplaner i forhold til kulturminner i henhold til Kulturminneloven § 9?',\n",
       " 'Hva er kravet for fortøyninger i forbindelse med akvakulturanlegg i områder avsatt til akvakultur?',\n",
       " 'Hva er betingelsene for etablering av flytebrygger tilknyttet havnene på Spildra og i Badderen i henhold til kontekstinformasjonen?',\n",
       " 'Hvilken lov regulerer endret plassering av akvakulturanlegg innenfor forvaltningsområdet for farled?',\n",
       " 'Hva er hensikten med reguleringsplanen for Brattåslia, GBNR 60/319 og 60/9?',\n",
       " 'Hva er kravene som må oppfylles før det kan gis midlertidig brukstillatelse/ferdigattest for et byggeprosjekt i henhold til dokumentet?',\n",
       " 'Hva er hensikten med å sikre god tilgjengelighet for alle befolkningsgrupper ved planlegging, utbygging og gjennomføring av tiltak?',\n",
       " 'Hva er maksimal tillatt grad av utnyttelse (BYA) innenfor planområdet?',\n",
       " 'Hva er kravet til høyde på sikthindringer i vegkryss og avkjørsler innenfor frisiktsone H140_1-2?',\n",
       " 'Hva er hensikten med den nye detaljreguleringsplanen for Brandhaugan II hytteområde?',\n",
       " 'Hva er det maksimale tillatte støynivået i tidsrommet 07.00 - 19.00 i det regulerte hytteområdet i henhold til vedtatt detaljreguleringsplan?',\n",
       " 'Hva er de spesifikke kravene til parkeringsplasser på hver tomt i Brandhaugan II hytteområde?',\n",
       " 'Hva er formålet med arealformålet \"turdrag\" i den vedtatte detaljreguleringsplanen for Brandhaugan II hytteområde?',\n",
       " 'Hva er rekkefølgen for opparbeidelse av teknisk infrastruktur til de enkelte tomter i Brandhaugan II hytteområde i henhold til vedtatt detaljreguleringsplan?',\n",
       " 'Hva er formålet med reguleringen av området i denne planen?',\n",
       " 'Hva er formålet med å gjennomføre en geoteknisk vurdering før oppstart av et tiltak?',\n",
       " 'Hva er formålet med å inkludere fellesbestemmelser for hele planområdet i en reguleringsplan?',\n",
       " 'Hva er formålet med kravet om undersøkelser før/ved gjennomføring av planen i henhold til § 12-7 nr. 12?',\n",
       " 'Hva er noen eksempler på bestemmelser som kan gjelde særskilt for ulike felt i reguleringsplanen?']"
      ]
     },
     "execution_count": 5,
     "metadata": {},
     "output_type": "execute_result"
    }
   ],
   "source": [
    "references[\"Question\"]"
   ]
  },
  {
   "cell_type": "code",
   "execution_count": 27,
   "metadata": {},
   "outputs": [
    {
     "name": "stderr",
     "output_type": "stream",
     "text": [
      "100%|██████████| 10/10 [00:06<00:00,  1.43it/s]\n",
      "Created a chunk of size 1147, which is longer than the specified 500\n",
      "Created a chunk of size 1570, which is longer than the specified 500\n",
      "Created a chunk of size 639, which is longer than the specified 500\n",
      "Created a chunk of size 610, which is longer than the specified 500\n",
      "Created a chunk of size 1008, which is longer than the specified 500\n",
      "Created a chunk of size 545, which is longer than the specified 500\n",
      "Created a chunk of size 536, which is longer than the specified 500\n",
      "Created a chunk of size 583, which is longer than the specified 500\n",
      "Created a chunk of size 1162, which is longer than the specified 500\n",
      "Created a chunk of size 607, which is longer than the specified 500\n",
      "Created a chunk of size 1206, which is longer than the specified 500\n",
      "Created a chunk of size 697, which is longer than the specified 500\n",
      "Created a chunk of size 734, which is longer than the specified 500\n",
      "Created a chunk of size 916, which is longer than the specified 500\n",
      "Created a chunk of size 916, which is longer than the specified 500\n",
      "Created a chunk of size 509, which is longer than the specified 500\n",
      "Created a chunk of size 603, which is longer than the specified 500\n",
      "Created a chunk of size 519, which is longer than the specified 500\n",
      "Created a chunk of size 519, which is longer than the specified 500\n",
      "Created a chunk of size 634, which is longer than the specified 500\n",
      "Created a chunk of size 522, which is longer than the specified 500\n",
      "Created a chunk of size 513, which is longer than the specified 500\n",
      "Created a chunk of size 930, which is longer than the specified 500\n",
      "Created a chunk of size 530, which is longer than the specified 500\n",
      "Created a chunk of size 665, which is longer than the specified 500\n",
      "Created a chunk of size 518, which is longer than the specified 500\n",
      "Created a chunk of size 518, which is longer than the specified 500\n",
      "Created a chunk of size 590, which is longer than the specified 500\n",
      "Created a chunk of size 590, which is longer than the specified 500\n",
      "Created a chunk of size 923, which is longer than the specified 500\n",
      "Created a chunk of size 923, which is longer than the specified 500\n",
      "Created a chunk of size 638, which is longer than the specified 500\n",
      "Created a chunk of size 504, which is longer than the specified 500\n",
      "Created a chunk of size 662, which is longer than the specified 500\n",
      "Created a chunk of size 564, which is longer than the specified 500\n",
      "Created a chunk of size 525, which is longer than the specified 500\n",
      "Created a chunk of size 535, which is longer than the specified 500\n",
      "Created a chunk of size 799, which is longer than the specified 500\n",
      "Created a chunk of size 548, which is longer than the specified 500\n",
      "Created a chunk of size 671, which is longer than the specified 500\n",
      "Created a chunk of size 535, which is longer than the specified 500\n",
      "Created a chunk of size 724, which is longer than the specified 500\n",
      "Created a chunk of size 2724, which is longer than the specified 500\n",
      "Created a chunk of size 2250, which is longer than the specified 500\n",
      "Created a chunk of size 2864, which is longer than the specified 500\n"
     ]
    }
   ],
   "source": [
    "loader = DirectoryLoader('data/', glob=\"**/*.pdf\", show_progress=True, loader_cls=UnstructuredFileLoader)\n",
    "documents = loader.load()\n",
    "text_splitter = CharacterTextSplitter(chunk_size=500, chunk_overlap=0)\n",
    "databases = {}\n",
    "for doc in documents:\n",
    "    source = doc.metadata['source']\n",
    "    match = re.search(r'\\/([A-Za-z_]+)\\.pdf', source)\n",
    "    if match:\n",
    "        municipality_name = match.group(1)\n",
    "    docs = text_splitter.split_documents([doc])\n",
    "    embeddings = SentenceTransformerEmbeddings(model_name='sentence-transformers/paraphrase-multilingual-mpnet-base-v2')\n",
    "    db = FAISS.from_documents(docs, embeddings)\n",
    "    databases[municipality_name] = db"
   ]
  },
  {
   "cell_type": "code",
   "execution_count": 31,
   "metadata": {},
   "outputs": [
    {
     "data": {
      "text/plain": [
       "[Document(page_content='PLANBESTEMMELSER §1 GENERELT 1.0 Formål Reguleringsplanen skal legge til rette for boligbebyggelse med tilhørende uteoppholdsareal. 1.1 Planavgrensning Det regulerte området er vist med plangrense på plankart sist revidert 18.1.19 i målestokk 1:1000 Planen vil erstatte deler av reguleringsplan ’Støver øst og Støver vest, vedtatt 10.02.2000. 1.2 Planområdets arealformål Området reguleres til følgende formål, jfr plan- og bygningsloven § 12-5: Bebyggelse og anlegg: - Konsentrert småhusbebyggelse (BK1-BK2) - Annet uteoppholdsareal (f_AU1) - Renovasjonsanlegg(f_RE1) Samferdselsanlegg og teknisk infrastruktur - Veg(f_SKV1) - Gatetun (f_GT1) -Annen veggrunn (f_SVT1-2) - Parkering (f_P1-2) Grønnstruktur - Friområde (f_F1)', metadata={'source': 'data/pdfs/Bodø.pdf'}),\n",
       " Document(page_content='Side 1 av 5\\n\\nformannskapssekretær\\n\\nPLANBESTEMMELSER FOR DETALJREGULERINGSPLAN FOR INNERDAMMEN, STØVER, GNR 54/4, 55/107 Siste behandling i PNM komiteen dato: Vedtatt av Bodø bystyre i møte dato:\\n\\nUnder K. Sak nummer:\\n\\nSide 2 av 5', metadata={'source': 'data/pdfs/Bodø.pdf'}),\n",
       " Document(page_content='Hensynssoner jfr pbl § 12-6 -Sikringssone frisikt (H140_1) - Særlig krav til infrastruktur (H410_1) § 2 FELLES BESTEMMELSER 2.1 Situasjonsplan Situasjonsplan skal vise planlagt bebyggelse med høyder (eksisterende og fremtidig terreng) og plassering, atkomst, parkering, sykkelparkering, snarveistier, avfallshåndtering, eventuelle nettstasjoner, samt planlagte løsninger for felles uteoppholdsarealer. 2.2 Støy- støyskjerming Boliger skal dokumenteres å oppnå innendørs støynivå ihht NS 8175, klasse C som tilsvarer 30 LpA,eq,24h(db). Maks støynivå for uteplass og utenfor rom med støyfølsom bruk er for støykildene vei, jernbane, flyplass hhv 55, 58 og 52 Lden. I soverom gjelder maksnivå fra utendørskilder 45 LpAmax (dB), natt kl. 23-07. Støyvurdering og forslag til tiltak for støyskjerming vedlegges søknad om byggetillatelse. Tiltak for støyskjerming skal ferdigstilles før det kan gis brukstillatelse. 2.3 Sikkerhet mot jernbane Langs grenselinje mot jernbanen skal det etableres en støy- og sikringsskjerm. 2.4 Parkering Det skal etableres parkering i henhold til bestemmelsene i kommuneplanens arealdel. 2.5 Lekeareal Det skal etableres leke- og uteoppholdsarealer i henhold til bestemmelsene i kommuneplanens arealdel 2.6 Universell utforming For uteområder, atkomst til og i bygninger gjelder krav fastsatt i byggeteknisk forskrift. Andel boenheter tilgjengelig for personer med funksjonsnedsettelse skal være i henhold til krav fastsatt i kommuneplanens arealdel. 2.7 Estetikk Ny bebyggelse skal vise god tilpasning til og opprettholde kvaliteten i det eksisterende boligområdet. 2.8 Kulturminner Skulle det under arbeid vise seg at tiltaket kan få konsekvenser for et automatisk fredet kulturminne, skal arbeidet stanses og ansvarlig myndighet eller nærmeste politimyndighet varsles i henhold til Kulturminneloven § 8, 2. ledd. 2.9 Bygge- og anleggsfasen Det skal utarbeides en egen tiltaksplan for hvordan farer og ulemper for beboere i nærområdet skal håndteres i anleggsfasen. Det gjelder spesielt transport og trafikk, støy, støv og rystelser. Tiltaksplanen må også vise hvordan det tas hensyn til det biomarine livet i Futelva. Ulemper for offentlig transport og trafikkavvikling skal redegjøres for. Eksisterende skolevei/snarvei skal opprettholdes gjennom anleggsperioden, og det skal redegjøres for trafikksikker skolevei. Støy fra bygge- og anleggsvirksomhet skal håndteres i samsvar med kap. 4 i T-1442. Tiltaksplan, med håndtering av problemene og avbøtende tiltak, skal godkjennes av Byteknikk 2.10 Tekniske anlegg Det skal utarbeides plan for kommunaltekniske anlegg, vei og VA anlegg. Overvann/drenering skal håndteres på en slik måte at tiltaket ikke fører til skader eller ulemper for jernbanen.', metadata={'source': 'data/pdfs/Bodø.pdf'}),\n",
       " Document(page_content='Side 3 av 5', metadata={'source': 'data/pdfs/Bodø.pdf'}),\n",
       " Document(page_content='2.11 Grunnforhold Før det gis rammetillatelse skal det dokumenteres at grunnen har tilstrekkelig stabilitet i forhold til omsøkte tiltak. Ved mistanke om forurenset grunn må dette sjekkes nærmere ut og eventuell tiltaksplan for håndtering av forurensede masser i henhold til forurensningsforskriften kap.2 må utarbeides. § 3. OMRÅDER FOR AREALBRUKSFORMÅL 3.1 Bebyggelse og anlegg. 3.1.1 Konsentrert småhusbebyggelse BK1 og BK2 Det skal oppføres 2 bygg med svalgangsløsning. BK1 har 2 leilighetsetasjer. BK2 har 2 leilighetsetasjer samt en sokkeletasje for boder. Totalt antall boenheter skal ikke overstige 30. Takform skal i hovedsak være mønet, men mindre innslag av flate tak kan aksepteres. Sykkelparkering med overbygg tillates utenfor byggegrense, innenfor formålsområdet. 3.1.2 Utnyttelse. Maks % BYA for BK1= 45% innenfor formålsområdet. Maks % BYA for BK2= 55% innenfor formålsområdet. 3.1.3 Gesimshøyde. Følgende begrensninger gjelder for bebyggelsen BK1 og BK2: Maks mønehøyde over gjennomsnittlig terreng = 8,5 meter. 3.1.4 Renovasjonsanlegg, f_RE1. Renovasjon anlegges innenfor formål for renovasjonsanlegg, f_RE1, og er felles for bebyggelse innenfor planområdet. Anlegget baseres på nedsenkbart avfallssystem. 3.1.5 Uteoppholdsareal, f_AU1. f_AU1 er privat, felles uteoppholdsarealer for BK1- BK2 samt for eksisterende bebyggelse med felles eiendomsgrense. Arealet skal dels opparbeides som nærlekområder, dels som uteoppholdsanlegg med benker og bord. Det skal opparbeides en vegetasjonsskjerm mot naboeiendom som skjerming ut mot uteoppholdsarealet. Utforming av denne må fremkomme på utomhusplan som sendes inn ved rammesøknad. Det skal opparbeides felles lekeplasser for BK1- BK2 samt for eksisterende bebyggelse med felles eiendomsgrense. Lekeplassene skal utformes med hovedvekt på mindre barn, med lekeutstyr tilpasset denne aldersgruppen. 4.1 Samferdselsanlegg og teknisk infrastruktur 4.1.1 Veg, f_SKV1. Veg, f_ SKV1 er felles adkomstvei for BK1 og BK2 til parkeringsplass. 4.1.2 Gatetun, f_GT1 Innenfor planområdet opparbeides kjørearealer for adkomst til blokkleilighetene og til parkeringen for blokkleilighetene som gatetunarealer. Det kan tillates begrenset møblering innenfor formålet. 4.1.3 Parkeringsplass, f_P1, f_P2.', metadata={'source': 'data/pdfs/Bodø.pdf'}),\n",
       " Document(page_content='Side 4 av 5', metadata={'source': 'data/pdfs/Bodø.pdf'}),\n",
       " Document(page_content='f_P1 og f_P2 skal opparbeides som åpen markparkering. f_P1 er felles parkeringsplasser for BK1 og BK2. f_P1 skal ha 2 stk hc-plasser. f_P2 er tilleggsplasser for inntilliggende eksisterende parkeringsareal med felles eiendomsgrense. 5.1 Grønnstruktur 5. 1.1 Friområde f_F1 Området innenfor f_F1, skal opprettholdes med eksisterende vegetasjon. Støyskjermingsvegg og gjerde mot jernbanen tillates oppført på f_F1. Avgrensning inn mot jernbanen skal sikres ved gjerde eller i forbindelse med støyskjermingsvegg. Plassering avgjøres i samråd med Bane Nor. 6.1 Hensynssoner 6. 1.1 Sikringssone frisikt, H140_1 H140 er frisiktområde i avkjørsel og kryss, som skal holdes fri for sikthindringer høyere enn 0,5m over hovedvegens nivå. 6. 1.2 Særlig krav til infrastruktur, H410_1 H410_1 er hensynssone for jernbanen. Det tillates manøvreringsareal for parkeringsområdet innenfor hensynssonen. Byggverk tillates ikke. Det tillates å sette opp støyskjerm og/eller gjerde. § 7 REKKEFØLGEBESTEMMELSER § 7.1 Før rammetillatelse kan gis skal følgende foreligge: o Situasjonsplan som viser bebyggelse med høyder og byggelinjer, evt. rekkverk, støyskjerm og forstøtningsmurer, bil- og sykkelparkering, avfallshåndtering, atkomst, eksisterende og fremtidig terreng samt øvrig bruk av ubebygde arealer. o Dokumentasjon på tilstrekkelig skolekapasitet. o Dokumentasjon som godtgjør at støykravene oppfylles. o Dokumentasjon på grunnforhold og tilstrekkelig stabilitet i forhold til omsøkte tiltak.. o Skisseplan for kommunaltekniske anlegg, godkjent av Byteknikk. § 7.2 Før igangsettingstillatelse kan gis skal følgende foreligge: o Detaljplaner for offentlig veigrunn og VA- anlegg som er godkjent av Byteknikk. Dokumentasjon på tilstrekkelig vanntrykk. o Dokumentasjon på at bebyggelsen får tilstrekkelig vann til brannslukking/eventuelle sprinkleranlegg. o Redegjørelse og plan for anleggsrigg i byggefasen. o Godkjent tiltaksplan for håndtering av ulemper i bygge- anleggsfasen, jfr. § 2.11. o Teknisk infrastruktur skal være opparbeidet eller sikret opparbeidet. § 7.3 Før midlertidig brukstillatelse eller ferdigattest kan gis skal følgende foreligge eller være ferdig opparbeidet: o Tilhørende leke- og oppholdsarealer skal være ferdig opparbeidet. Ved trinnvis utbygging skal nødvendig uteoppholdsareal opparbeides. o Dersom det gis midlertidig brukstillatelse i vinterhalvåret, skal nødvendig uteoppholdsareal senest ferdigstilles påfølgende sommer. Dersom siste byggetrinn ikke er ferdigstilt senest fire år etter brukstillatelse er gitt for første byggetrinn, skal felles leke- og uteoppholdsareal opparbeides omgående. o Støy- og sikringsskjermingen mot jernbanetraseen skal være oppsatt og godkjent av BaneNor. o Dokumentasjon på at parkeringskravet er oppfylt. o Eventuelle avbøtende tiltak ift. støy skal være ferdigstilt iht.dokumentasjon fremlagt til rammesøknaden.', metadata={'source': 'data/pdfs/Bodø.pdf'}),\n",
       " Document(page_content='Side 5 av 5\\n\\no Bruksrett for parkeringsplasser i f_P2 skal være tinglyst til naboeiendom gnr/bnr 55/70 Sist revidert 06.05.19', metadata={'source': 'data/pdfs/Bodø.pdf'})]"
      ]
     },
     "execution_count": 31,
     "metadata": {},
     "output_type": "execute_result"
    }
   ],
   "source": [
    "docs"
   ]
  }
 ],
 "metadata": {
  "kernelspec": {
   "display_name": "MASTER",
   "language": "python",
   "name": "python3"
  },
  "language_info": {
   "codemirror_mode": {
    "name": "ipython",
    "version": 3
   },
   "file_extension": ".py",
   "mimetype": "text/x-python",
   "name": "python",
   "nbconvert_exporter": "python",
   "pygments_lexer": "ipython3",
   "version": "3.11.7"
  }
 },
 "nbformat": 4,
 "nbformat_minor": 2
}
